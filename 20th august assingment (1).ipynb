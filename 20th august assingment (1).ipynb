{
 "cells": [
  {
   "cell_type": "markdown",
   "id": "0fa86503-b003-415c-9a6e-6df8f645822d",
   "metadata": {},
   "source": [
    "###### write a programe to reverse a string\n",
    "string=input(\"enter the string:\")\n",
    "reverse_string =string[::-1]\n",
    "print(reverse_string)"
   ]
  },
  {
   "cell_type": "code",
   "execution_count": 2,
   "id": "10eb0db0-34a1-4960-b81c-4029e6dc5a3e",
   "metadata": {},
   "outputs": [
    {
     "name": "stdin",
     "output_type": "stream",
     "text": [
      "enter the string: madam\n"
     ]
    },
    {
     "name": "stdout",
     "output_type": "stream",
     "text": [
      "palindrome\n"
     ]
    }
   ],
   "source": [
    "#checking if a string is palindrome or not\n",
    "#astring is said to bepalindrome if the string is identical\n",
    "#ex: abcdedcba,malayam\n",
    "string = input(\"enter the string:\")\n",
    "reverse_string=string[::-1]\n",
    "if string ==reverse_string:\n",
    "    print(\"palindrome\")\n",
    "else:\n",
    "    print(\"not palindrome\")"
   ]
  },
  {
   "cell_type": "code",
   "execution_count": 3,
   "id": "0a4554f7-43b1-46a6-adef-c80703ab3de4",
   "metadata": {},
   "outputs": [
    {
     "name": "stdin",
     "output_type": "stream",
     "text": [
      "enter string: dog\n"
     ]
    },
    {
     "name": "stdout",
     "output_type": "stream",
     "text": [
      "DOG\n"
     ]
    }
   ],
   "source": [
    "#3convert a string into upper case\n",
    "s=input(\"enter string:\")\n",
    "s1 = s.upper()\n",
    "print(s1)"
   ]
  },
  {
   "cell_type": "code",
   "execution_count": 4,
   "id": "38b2c8ae-5d83-4a1c-91db-5d648b66e947",
   "metadata": {},
   "outputs": [
    {
     "name": "stdin",
     "output_type": "stream",
     "text": [
      "enter string: SKY\n"
     ]
    },
    {
     "name": "stdout",
     "output_type": "stream",
     "text": [
      "sky\n"
     ]
    }
   ],
   "source": [
    "#convert a string into lower case\n",
    "s2=input(\"enter string:\")\n",
    "s3= s2.lower()\n",
    "print(s3)"
   ]
  },
  {
   "cell_type": "code",
   "execution_count": 5,
   "id": "a584317d-378e-4d90-abfa-ec171a39712b",
   "metadata": {},
   "outputs": [
    {
     "name": "stdin",
     "output_type": "stream",
     "text": [
      "enter string: i love cricket\n"
     ]
    },
    {
     "name": "stdout",
     "output_type": "stream",
     "text": [
      " no of vowles in sentance: 1\n",
      " no of vowles in sentance: 2\n",
      " no of vowles in sentance: 3\n",
      " no of vowles in sentance: 4\n",
      " no of vowles in sentance: 5\n"
     ]
    }
   ],
   "source": [
    "#count the number of vowles in a string\n",
    "sentance=input(\"enter string:\")\n",
    "string= sentance.lower()\n",
    "count=0\n",
    "list1=[\"a\",\"e\",\"i\",\"o\",\"u\"] #vowles in alphabet\n",
    "for char in string:\n",
    "    if char in list1:\n",
    "        count =count+1\n",
    "        print(\" no of vowles in sentance:\", count)"
   ]
  },
  {
   "cell_type": "code",
   "execution_count": 6,
   "id": "451c64ca-1857-4b55-b9dc-4fcbf6454d03",
   "metadata": {},
   "outputs": [
    {
     "name": "stdin",
     "output_type": "stream",
     "text": [
      "enter string: asdfghjk asdfgh asdfgh asdfgtf\n"
     ]
    },
    {
     "name": "stdout",
     "output_type": "stream",
     "text": [
      "no of con is: 23\n"
     ]
    }
   ],
   "source": [
    "#counting the consonant in a string\n",
    "c= input(\"enter string:\")\n",
    "con =\"bcdfghjklmnpqrstvwxyz\"\n",
    "count=0\n",
    "for i in c:\n",
    "    if i in con:\n",
    "        count=count+1\n",
    "print(\"no of con is:\",count)"
   ]
  },
  {
   "cell_type": "code",
   "execution_count": 7,
   "id": "ea6a2616-c1c3-4d73-a8bb-ef46c48fd609",
   "metadata": {},
   "outputs": [
    {
     "name": "stdin",
     "output_type": "stream",
     "text": [
      "enter string: subhajit raj,love dog\n"
     ]
    },
    {
     "name": "stdout",
     "output_type": "stream",
     "text": [
      "subhajitraj,lovedog\n"
     ]
    }
   ],
   "source": [
    "#remov all white space from a string\n",
    "s = input(\"enter string:\")\n",
    "remove_whitespace = s.replace(\" \",\"\")\n",
    "print(remove_whitespace)"
   ]
  },
  {
   "cell_type": "code",
   "execution_count": 9,
   "id": "3fc9ba4d-30e9-4a19-b3d0-ae5b872eefc3",
   "metadata": {},
   "outputs": [
    {
     "name": "stdin",
     "output_type": "stream",
     "text": [
      "enter string: testing\n"
     ]
    },
    {
     "name": "stdout",
     "output_type": "stream",
     "text": [
      "lrngth 1\n"
     ]
    }
   ],
   "source": [
    "#find the len of a string without using length function\n",
    "def string_length(my_string):\n",
    "    counter=0\n",
    "    for char in my_string:\n",
    "        counter += 1\n",
    "        return counter\n",
    "    \n",
    "string_input = input(\"enter string:\")\n",
    "length = string_length(string_input)\n",
    "print(\"lrngth\", length)\n",
    "        "
   ]
  },
  {
   "cell_type": "code",
   "execution_count": 11,
   "id": "8772b884-403c-4dca-8b40-6f60abc9ec83",
   "metadata": {},
   "outputs": [
    {
     "name": "stdin",
     "output_type": "stream",
     "text": [
      "enter string: my name is subhajit raj\n",
      "enter spalicized word to check for: mama\n"
     ]
    },
    {
     "name": "stdout",
     "output_type": "stream",
     "text": [
      "the string dose'tcontain the word 'mama'.\n"
     ]
    }
   ],
   "source": [
    "#checking if a string contains a spacific word\n",
    "d= input(\"enter string:\")\n",
    "d2= input(\"enter spalicized word to check for:\")\n",
    "if d2 in d:\n",
    "    print(f\"the string contains the word '{d2}'.\")\n",
    "else:\n",
    "    print(f\"the string dose'tcontain the word '{d2}'.\")"
   ]
  },
  {
   "cell_type": "code",
   "execution_count": 13,
   "id": "b09d912b-4fc3-4fce-8dfb-73e4f4bf08dd",
   "metadata": {},
   "outputs": [
    {
     "name": "stdin",
     "output_type": "stream",
     "text": [
      "enter the string: subhajit roy\n",
      "enter the word to be replaced: roy\n",
      "enter new word: raj\n"
     ]
    },
    {
     "name": "stdout",
     "output_type": "stream",
     "text": [
      "modified string: subhajit raj\n"
     ]
    }
   ],
   "source": [
    "#replace the word with another word\n",
    "c= input(\"enter the string:\")\n",
    "c1 = input(\"enter the word to be replaced:\")\n",
    "c2 = input(\"enter new word:\")\n",
    "c3 = c.replace(c1, c2)\n",
    "print(\"modified string:\" , c3)"
   ]
  },
  {
   "cell_type": "code",
   "execution_count": 22,
   "id": "a31ed2c5-af00-47b1-98c8-c6982d00318a",
   "metadata": {},
   "outputs": [
    {
     "name": "stdout",
     "output_type": "stream",
     "text": [
      "the word 'sample' appears 1 times in the input_string.\n"
     ]
    }
   ],
   "source": [
    "#count the occurrance of a string\n",
    "def count_word_occurrance (input_string, target_word):\n",
    "    word_count = 0\n",
    "    words = input_string.split()\n",
    "    for word in words:\n",
    "        if word == target_word:\n",
    "            word_count += 1\n",
    "    return word_count\n",
    "\n",
    "input_string =\" this is a sample sentance. this sentance contains the word 'sample' multipul times.\"\n",
    "target_word = \"sample\"\n",
    "result = count_word_occurrance(input_string,target_word)\n",
    "print(f\"the word '{target_word}' appears {result} times in the input_string.\")"
   ]
  },
  {
   "cell_type": "code",
   "execution_count": 1,
   "id": "96009433-c6e9-4f7a-8cda-40e7f27e4686",
   "metadata": {},
   "outputs": [
    {
     "name": "stdout",
     "output_type": "stream",
     "text": [
      "index of the first occurance: 11\n"
     ]
    }
   ],
   "source": [
    "# find the first occurrance of a string\n",
    "def find_first_occurrance(text,word):\n",
    "    index= text.find(word)\n",
    "    if index== -1:\n",
    "        return None\n",
    "    return index\n",
    "text =\"this is an exmple sentence.This sentance contains the word exmple.\"\n",
    "word = \"exmple\"\n",
    "result = find_first_occurrance(text,word)\n",
    "print(\"index of the first occurance:\", result)"
   ]
  },
  {
   "cell_type": "code",
   "execution_count": 2,
   "id": "857fcff9-a9fe-4786-a8ac-95fa072e0a59",
   "metadata": {},
   "outputs": [
    {
     "name": "stdout",
     "output_type": "stream",
     "text": [
      "index of last occurrance: 11\n"
     ]
    }
   ],
   "source": [
    "#find the last occurance of word in a string\n",
    "def find_last_occurrance(text, word):\n",
    "    index = text.rfind(word)\n",
    "    if index==-1:\n",
    "        return None\n",
    "    return index\n",
    "\n",
    "text =\"this is an exmple sentence. This sentencealso contains the word sentence.\"\n",
    "word = \"exmple\"\n",
    "result = find_last_occurrance(text,word)\n",
    "print(\"index of last occurrance:\" , result)\n",
    "    "
   ]
  },
  {
   "cell_type": "code",
   "execution_count": 4,
   "id": "4a68d68a-7353-4347-9498-bfccf9e68e7e",
   "metadata": {},
   "outputs": [
    {
     "name": "stdout",
     "output_type": "stream",
     "text": [
      "list of words: ['my', 'name', 'is', 'subho', 'and', 'i', 'am', 'a', 'good', 'singer.']\n"
     ]
    }
   ],
   "source": [
    "#split a string into a list of word\n",
    "def split_string_into_words(text):\n",
    "    words_list = text.split()\n",
    "    return words_list\n",
    "\n",
    "text =\" my name is subho and i am a good singer.\"\n",
    "words =split_string_into_words(text)\n",
    "print(\"list of words:\", words)"
   ]
  },
  {
   "cell_type": "code",
   "execution_count": 6,
   "id": "9ac7fc1f-c81b-43d2-a1cb-53ca82e58c82",
   "metadata": {},
   "outputs": [
    {
     "name": "stdout",
     "output_type": "stream",
     "text": [
      "joined string: this is an very good dog.\n"
     ]
    }
   ],
   "source": [
    "#join a list of word into a sting\n",
    "def join_words_into_string(words_list):\n",
    "    joined_string =' '.join(words_list)\n",
    "    return joined_string\n",
    "\n",
    "words=[\"this\", \"is\", \"an\", \"very\", \"good\", \"dog.\"]\n",
    "text = join_words_into_string(words)\n",
    "print(\"joined string:\", text)"
   ]
  },
  {
   "cell_type": "code",
   "execution_count": 10,
   "id": "afcca0a8-154b-447d-bccf-7ee20cec460b",
   "metadata": {},
   "outputs": [
    {
     "name": "stdout",
     "output_type": "stream",
     "text": [
      "converted text: this_is_an_example_sentence.\n"
     ]
    }
   ],
   "source": [
    "#convert a string where words are seperated by space to one where words are seoerated by underscore.\n",
    "def convert_to_underscore_separated(text):\n",
    "    underscore_separated= text.replace(\" \",\"_\")\n",
    "    return underscore_separated\n",
    "text = \"this is an example sentence.\"\n",
    "converted_text = convert_to_underscore_separated(text)\n",
    "print(\"converted text:\", converted_text)"
   ]
  },
  {
   "cell_type": "code",
   "execution_count": 12,
   "id": "8519c96f-df0e-4bc6-99b5-37dfc7facf6e",
   "metadata": {},
   "outputs": [
    {
     "name": "stdout",
     "output_type": "stream",
     "text": [
      "not starts with prefix.\n"
     ]
    }
   ],
   "source": [
    "#checking if a string stars with aspecific word or phrase\n",
    "def starts_with(text,prefix):\n",
    "    is_start= text.startswith(prefix)\n",
    "    return is_start\n",
    "\n",
    "text =\" hello world\"\n",
    "prefix= \"hello\"\n",
    "result= starts_with(text,prefix)\n",
    "if result:\n",
    "    print(\"the text starts with prefix.\")\n",
    "else:\n",
    "    print(\"not starts with prefix.\")"
   ]
  },
  {
   "cell_type": "code",
   "execution_count": 13,
   "id": "ac41ae09-8c33-4cc0-b9a3-b78fe24967a1",
   "metadata": {},
   "outputs": [
    {
     "name": "stdout",
     "output_type": "stream",
     "text": [
      "not end with suffix:\n"
     ]
    }
   ],
   "source": [
    "#checking if a string ends with a specific word or phrase\n",
    "def ends_with(text,suffix):\n",
    "    is_end= text.endswith(suffix)\n",
    "    return is_end\n",
    "\n",
    "text =\"Hello, World !\"\n",
    "suffix = \" World!\"\n",
    "result = ends_with(text,suffix)\n",
    "if result:\n",
    "    print(\"the word wnd with suffix:\")\n",
    "else:\n",
    "    print(\"not end with suffix:\")\n",
    "                    "
   ]
  },
  {
   "cell_type": "code",
   "execution_count": 14,
   "id": "ee76295f-5024-4fe0-8e70-0aeb0514b9e7",
   "metadata": {},
   "outputs": [
    {
     "name": "stdout",
     "output_type": "stream",
     "text": [
      "title case: Subhajit Raj\n"
     ]
    }
   ],
   "source": [
    "#convert a string into a case\n",
    "def convert_to_title_case(text):\n",
    "    title_case_text =text.title()\n",
    "    return title_case_text\n",
    "\n",
    "text =\"subhajit raj\"\n",
    "title_case_result=convert_to_title_case(text)\n",
    "print(\"title case:\", title_case_result)"
   ]
  },
  {
   "cell_type": "code",
   "execution_count": 1,
   "id": "0fbc646a-115c-4c8a-9c21-a9a81c652c1f",
   "metadata": {},
   "outputs": [
    {
     "name": "stdout",
     "output_type": "stream",
     "text": [
      "longest word: i\n"
     ]
    }
   ],
   "source": [
    "#find the longest word in a string \n",
    "def find_longest_word(text):\n",
    "    words = text.split()\n",
    "    longest_word =\"\"\n",
    "    max_length =0\n",
    "    for word in words:\n",
    "        if len(word)> max_length:\n",
    "            max_length= len(word)\n",
    "            longest_word = word\n",
    "            return longest_word\n",
    "        \n",
    "text=\" i live in a small city which has a long river\"\n",
    "longest_word=find_longest_word(text)\n",
    "print(\"longest word:\", longest_word)\n",
    "\n",
    "        \n",
    "        \n"
   ]
  },
  {
   "cell_type": "code",
   "execution_count": 2,
   "id": "919c75e0-780d-48c6-a563-72f6a83d870f",
   "metadata": {},
   "outputs": [
    {
     "name": "stdout",
     "output_type": "stream",
     "text": [
      "shortest word: this\n"
     ]
    }
   ],
   "source": [
    "#find the shortes word\n",
    "def find_shortest_word(text):\n",
    "    words=text.split()\n",
    "    shortest_word = None\n",
    "    min_length = float('inf')\n",
    "    for word in words:\n",
    "        if len(word)< min_length:\n",
    "            min_length = len(word)\n",
    "            shortest_word = word\n",
    "            return shortest_word\n",
    "        \n",
    "text = \"this is an example sentence with some short words.\"\n",
    "shortest_word = find_shortest_word(text)\n",
    "print(\"shortest word:\" , shortest_word)"
   ]
  },
  {
   "cell_type": "code",
   "execution_count": 4,
   "id": "73870e63-4cfe-4581-a9e3-f1db4f72f770",
   "metadata": {},
   "outputs": [
    {
     "name": "stdin",
     "output_type": "stream",
     "text": [
      "enter the sting: i am proud tobe a student\n"
     ]
    },
    {
     "name": "stdout",
     "output_type": "stream",
     "text": [
      "student a tobe proud am i\n"
     ]
    }
   ],
   "source": [
    "#reverse the order of the stimg\n",
    "s = input(\"enter the sting:\")\n",
    "s1 = s.split()[::-1]\n",
    "l =[]\n",
    "for i in s1:\n",
    "    l.append(i)\n",
    "print(\" \".join(l))\n"
   ]
  },
  {
   "cell_type": "code",
   "execution_count": 8,
   "id": "5e0079e7-dbad-4169-b9ef-e1b47ed7f9f8",
   "metadata": {},
   "outputs": [
    {
     "name": "stdout",
     "output_type": "stream",
     "text": [
      "alphanumeric\n"
     ]
    }
   ],
   "source": [
    "#checking if the sting is alphanumeric\n",
    "def is_alphanumeric(text):\n",
    "    return text.isalnum()\n",
    "\n",
    "text=\"abc123\"\n",
    "result = is_alphanumeric(text)\n",
    "if result:\n",
    "    print(\"alphanumeric\")\n",
    "else:\n",
    "    print(\"not alphanumeric\")"
   ]
  },
  {
   "cell_type": "code",
   "execution_count": 9,
   "id": "b6f14c46-a20a-4b63-bec9-a3eac74b4cd7",
   "metadata": {},
   "outputs": [
    {
     "name": "stdout",
     "output_type": "stream",
     "text": [
      "extract diguits: 123456\n"
     ]
    }
   ],
   "source": [
    "#extract all digits from a string\n",
    "def extract_digits(text):\n",
    "    digits = \"\"\n",
    "    for char in text:\n",
    "        if char.isdigit():\n",
    "            digits += char\n",
    "    return digits\n",
    "\n",
    "text =\"abc123def456\"\n",
    "extracted_digits = extract_digits(text)\n",
    "print(\"extract diguits:\", extracted_digits)"
   ]
  },
  {
   "cell_type": "code",
   "execution_count": 22,
   "id": "cac80ccc-7917-4f8e-b852-be97baae3c6a",
   "metadata": {},
   "outputs": [
    {
     "name": "stdout",
     "output_type": "stream",
     "text": [
      "a b c d e f\n"
     ]
    }
   ],
   "source": [
    "def extract_alphabets(input_string):\n",
    "    alphabets =' '.join([char for char in input_string if char.isalpha()])\n",
    "    return alphabets\n",
    "input_string= \"abc123def456\"\n",
    "result = extract_alphabets(input_string)\n",
    "print(result)"
   ]
  },
  {
   "cell_type": "code",
   "execution_count": 25,
   "id": "bd97f869-ac21-414f-94d0-dbc7cc478e80",
   "metadata": {},
   "outputs": [
    {
     "name": "stdout",
     "output_type": "stream",
     "text": [
      "0\n"
     ]
    }
   ],
   "source": [
    "#count the number of uppercase letters in a string\n",
    "def count_uppercase(input_string):\n",
    "    uppercase_count = sum(1 for char in input_string if char.isupper())\n",
    "    return uppercase_count\n",
    "\n",
    "inpur_string= \"helloworld\"\n",
    "result = count_uppercase(input_string)\n",
    "print(result)"
   ]
  },
  {
   "cell_type": "code",
   "execution_count": 26,
   "id": "39e3530c-dad8-4cd2-be1f-f077fc67c1b0",
   "metadata": {},
   "outputs": [
    {
     "name": "stdout",
     "output_type": "stream",
     "text": [
      "4\n"
     ]
    }
   ],
   "source": [
    "# count the number of lowercase letters in a string\n",
    "def count_lowercase(input_string):\n",
    "    lowercase_count =sum(1 for char in input_string if char.islower())\n",
    "    return lowercase_count\n",
    "\n",
    "input_string= \"HelloWORLD\"\n",
    "result = count_lowercase(input_string)\n",
    "print(result)"
   ]
  },
  {
   "cell_type": "code",
   "execution_count": 2,
   "id": "5b76240c-7e04-466a-8599-47bbdd819fc6",
   "metadata": {},
   "outputs": [
    {
     "name": "stdout",
     "output_type": "stream",
     "text": [
      "SUBHAJIT\n"
     ]
    }
   ],
   "source": [
    "#swap the case of each character in a string\n",
    "def swap_case(input_string):\n",
    "    swapped_string = input_string.swapcase()\n",
    "    return swapped_string\n",
    "input_string = \"subhajit\"\n",
    "result = swap_case(input_string)\n",
    "print(result)"
   ]
  },
  {
   "cell_type": "code",
   "execution_count": 4,
   "id": "ef468876-46e1-4c27-b918-46361be7be15",
   "metadata": {},
   "outputs": [
    {
     "name": "stdout",
     "output_type": "stream",
     "text": [
      "Hello world,welcome to the of programming.\n"
     ]
    }
   ],
   "source": [
    "#remove a spacific word from a string\n",
    "def remove_word(input_string, word_to_remove):\n",
    "    words = input_string.split()\n",
    "    filtered_words =[word for word in words if word !=word_to_remove]\n",
    "    modified_string= ' '.join(filtered_words)\n",
    "    return modified_string\n",
    "\n",
    "input_string = \"Hello world,welcome to the world of programming.\"\n",
    "word_to_remove = \"world\"\n",
    "result = remove_word(input_string,word_to_remove)\n",
    "print(result)"
   ]
  },
  {
   "cell_type": "code",
   "execution_count": 1,
   "id": "6285c667-a594-4fe3-b2d1-068791bccfeb",
   "metadata": {},
   "outputs": [],
   "source": [
    "#check if a string is a valid mail adress\n",
    "import re\n",
    "def is_valid_email(email):\n",
    "    pattern = r'^[\\w\\.-]+@[\\w\\.-]+\\.\\w+$'  \n",
    "    if re.match(pattern, email):\n",
    "        return True\n",
    "    else:\n",
    "        return False\n",
    "    \n",
    "    email1 =\"subhajitraj@gmail.com\"\n",
    "    email2 =\"inviled-emil\"\n",
    "    result1 = is_valid_email(email1)\n",
    "    result2 =is_valid_email(email2)\n",
    "    print(result1)\n",
    "    print(result2)\n",
    "    \n",
    "    \n",
    "\n",
    "    "
   ]
  },
  {
   "cell_type": "code",
   "execution_count": 2,
   "id": "7b597959-37df-4d47-a914-9715dfc6c1eb",
   "metadata": {},
   "outputs": [
    {
     "name": "stdout",
     "output_type": "stream",
     "text": [
      "subhajit\n"
     ]
    }
   ],
   "source": [
    "#extract the user name from a email\n",
    "def extract_username(email):\n",
    "    username = email.split('@')[0]\n",
    "    return username\n",
    "\n",
    "email = \"subhajit@email.com\"\n",
    "result = extract_username(email)\n",
    "print(result)"
   ]
  },
  {
   "cell_type": "code",
   "execution_count": 7,
   "id": "aad2da16-55d6-454e-95f6-da8434e7f6f8",
   "metadata": {},
   "outputs": [
    {
     "name": "stdout",
     "output_type": "stream",
     "text": [
      "gmail.com\n"
     ]
    }
   ],
   "source": [
    "#extract the domain from an email adresss\n",
    "def extract_domain(email):\n",
    "    \n",
    "    domain = email.split('@')[1]\n",
    "    return domain\n",
    "\n",
    "email =\"subhajit@gmail.com\"\n",
    "result= extract_domain(email)\n",
    "print(result)"
   ]
  },
  {
   "cell_type": "code",
   "execution_count": 8,
   "id": "5e04691c-5b9f-4ca2-bd62-2854af43997f",
   "metadata": {},
   "outputs": [
    {
     "name": "stdout",
     "output_type": "stream",
     "text": [
      "Hello world! how are you?\n"
     ]
    }
   ],
   "source": [
    "#replace multipa spaces in a string with single space\n",
    "def replace_multipal_spaces(input_string):\n",
    "    cleaned_string = ' '.join(input_string.split())\n",
    "    return cleaned_string\n",
    "\n",
    "\n",
    "input_string = \"Hello   world! how are you?\"\n",
    "result = replace_multipal_spaces(input_string)\n",
    "print(result)"
   ]
  },
  {
   "cell_type": "code",
   "execution_count": 27,
   "id": "54ad4861-8a4f-423b-b921-d5e2eb9dec0f",
   "metadata": {},
   "outputs": [],
   "source": [
    "#check if a string is a valid URL\n",
    "def is_valid_url(url):\n",
    "    try:\n",
    "        result = urlparse(url)\n",
    "        return all([result.scheme, result.netloc])\n",
    "    except valueError:\n",
    "        return False\n",
    "    \n",
    "    url1=\"https://www.exmple.com\"\n",
    "    url2=\"invalid-url\"\n",
    "    result1 = is_valid_url(url1)\n",
    "    result2 = is_valid_url(url2)\n",
    "    print(result1)\n",
    "    print(result2)"
   ]
  },
  {
   "cell_type": "code",
   "execution_count": 26,
   "id": "7e21c3f7-753c-4a1b-bcb4-b16c9c6ee779",
   "metadata": {},
   "outputs": [],
   "source": [
    "#extreact the protocaol(htto orhttps) from a url\n",
    "def extract_protocol(url):\n",
    "    protocol_end = url.find(\"://\")\n",
    "    if protocol_end != -1:\n",
    "        protocol =url[:protocol_end]\n",
    "        return protocol\n",
    "    else:\n",
    "        return None\n",
    "    \n",
    "    url1=\"https://www.example.com\"\n",
    "    url2= \"http://google.com\"\n",
    "    url3=\"ftp://ftp.example.com\"\n",
    "    \n",
    "    protocol1=extract_protocol(url1)\n",
    "    protocol2=extract_protocol(url2)\n",
    "    protocolextract_protocol(url3)\n",
    "    \n",
    "    print(\"protocol 1:\", protocol1)\n",
    "    print(\"protocol 2:\", protocol2)\n",
    "    print(\"protocol 3:\", protocol3)"
   ]
  },
  {
   "cell_type": "code",
   "execution_count": 22,
   "id": "e0f30f28-3b3b-4c1c-8714-a0a1090b27fb",
   "metadata": {},
   "outputs": [
    {
     "name": "stdout",
     "output_type": "stream",
     "text": [
      "character: 'h', frewuency: 1\n",
      "character: 'e', frewuency: 1\n",
      "character: 'l', frewuency: 3\n",
      "character: 'o', frewuency: 2\n",
      "character: ' ', frewuency: 1\n",
      "character: 'w', frewuency: 1\n",
      "character: 'r', frewuency: 1\n",
      "character: 'd', frewuency: 1\n"
     ]
    }
   ],
   "source": [
    "#find the frequency of each char in a string\n",
    "def character_frequency(input_string):\n",
    "    frequency ={}\n",
    "    for char in input_string:\n",
    "        if char in frequency:\n",
    "            frequency[char] += 1\n",
    "        else:\n",
    "            frequency[char] = 1\n",
    "    return frequency\n",
    "\n",
    "input_string = \"hello world\"\n",
    "char_freq = character_frequency(input_string)\n",
    "for char, freq in char_freq.items():\n",
    "\n",
    "\n",
    "    \n",
    "    print(f\"character: '{char}', frewuency: {freq}\")\n",
    "\n",
    "    "
   ]
  },
  {
   "cell_type": "code",
   "execution_count": 23,
   "id": "e3cb0d1b-98b2-4f06-b1f4-ff9a82bdfb2e",
   "metadata": {},
   "outputs": [
    {
     "name": "stdout",
     "output_type": "stream",
     "text": [
      "orginal string: hello, world !, how's it going?\n",
      "cleaned string: hello world  hows it going\n"
     ]
    }
   ],
   "source": [
    "#remove all punctuation from a string\n",
    "import string\n",
    "\n",
    "def remove_punctuation(input_string):\n",
    "    translator = str.maketrans(\"\",\"\", string.punctuation)\n",
    "    clean_string = input_string.translate(translator)\n",
    "    return clean_string\n",
    "input_str = \"hello, world !, how's it going?\"\n",
    "cleaned_str = remove_punctuation(input_str)\n",
    "\n",
    "print(\"orginal string:\", input_str)\n",
    "print(\"cleaned string:\", cleaned_str)\n"
   ]
  },
  {
   "cell_type": "code",
   "execution_count": 25,
   "id": "b882a6c2-5a11-470b-9eaa-b06e9e3bd351",
   "metadata": {},
   "outputs": [
    {
     "name": "stdout",
     "output_type": "stream",
     "text": [
      "'12345' contains only digits: True\n",
      "'abc123' contains only digits: False\n",
      "'456.789' contains only digits: False\n"
     ]
    }
   ],
   "source": [
    "#chec it a string only contains digits\n",
    "def contains_only_digits(input_string):\n",
    "    return input_string.isdigit()\n",
    "\n",
    "string1 =\"12345\"\n",
    "string2 =\"abc123\"\n",
    "string3 =\"456.789\"\n",
    "\n",
    "result1 = contains_only_digits(string1)\n",
    "result2 = contains_only_digits(string2)\n",
    "result3 = contains_only_digits(string3)\n",
    "\n",
    "print(f\"'{string1}' contains only digits:\", result1)\n",
    "print(f\"'{string2}' contains only digits:\", result2)\n",
    "print(f\"'{string3}' contains only digits:\", result3)\n",
    "\n"
   ]
  },
  {
   "cell_type": "code",
   "execution_count": 3,
   "id": "ae869395-0b1a-4654-b633-c1cf9ddd1a00",
   "metadata": {},
   "outputs": [
    {
     "name": "stdout",
     "output_type": "stream",
     "text": [
      "'hello' contains only alphabets: True\n",
      "'abc123' contains only alphabets: False\n",
      "'12345' contains only alphabets: False\n"
     ]
    }
   ],
   "source": [
    "# check if a string only contains alphabets\n",
    "def contains_only_alphabets(input_string):\n",
    "    return input_string.isalpha()\n",
    "\n",
    "string1 =\"hello\"\n",
    "string2 = \"abc123\"\n",
    "string3 = \"12345\"\n",
    "\n",
    "result1 = contains_only_alphabets(string1)\n",
    "result2 = contains_only_alphabets(string2)\n",
    "result3 = contains_only_alphabets(string3)\n",
    "\n",
    "print(f\"'{string1}' contains only alphabets:\", result1)\n",
    "print(f\"'{string2}' contains only alphabets:\", result2)\n",
    "print(f\"'{string3}' contains only alphabets:\", result3)"
   ]
  },
  {
   "cell_type": "code",
   "execution_count": 4,
   "id": "87f209a0-1aeb-481e-8180-065ad043f51f",
   "metadata": {},
   "outputs": [
    {
     "name": "stdout",
     "output_type": "stream",
     "text": [
      "original string: hello, worls!\n",
      "list of char: ['h', 'e', 'l', 'l', 'o', ',', ' ', 'w', 'o', 'r', 'l', 's', '!']\n"
     ]
    }
   ],
   "source": [
    "# convert a string into a list of char.\n",
    "def string_to_list(input_string):\n",
    "    char_list= list(input_string)\n",
    "    return char_list\n",
    "\n",
    "\n",
    "input_str = \"hello, worls!\"\n",
    "char_list = string_to_list(input_str)\n",
    "\n",
    "print(\"original string:\", input_str)\n",
    "print(\"list of char:\", char_list)"
   ]
  },
  {
   "cell_type": "code",
   "execution_count": 9,
   "id": "5bf60df0-eb10-4bee-b131-ccafbad93da1",
   "metadata": {},
   "outputs": [
    {
     "name": "stdout",
     "output_type": "stream",
     "text": [
      "'listen' and'silent' are anagrems: True\n",
      "'hello' and'world' are anagrems: False\n"
     ]
    }
   ],
   "source": [
    "#check if two strings are anagrams\n",
    "def are_anagrems(str1,str2):\n",
    "    \n",
    "\n",
    "    str1 = str1.replace(\" \",\"\").lower()\n",
    "    str2 = str2.replace(\" \",\"\").lower()\n",
    "\n",
    "    return sorted(str1)==sorted(str2)\n",
    "\n",
    "\n",
    "string1 =\"listen\"\n",
    "string2 = \"silent\"\n",
    "string3 =\"hello\"\n",
    "string4 =\"world\"\n",
    "\n",
    "result1 = are_anagrems(string1,string2)\n",
    "result2 = are_anagrems(string3, string4)\n",
    "\n",
    "print(f\"'{string1}' and'{string2}' are anagrems:\", result1)\n",
    "print(f\"'{string3}' and'{string4}' are anagrems:\", result2)"
   ]
  },
  {
   "cell_type": "code",
   "execution_count": 11,
   "id": "81bd1238-15be-4e04-83ff-6deab455509c",
   "metadata": {},
   "outputs": [
    {
     "name": "stdout",
     "output_type": "stream",
     "text": [
      "encoded text: khoor, zruog!\n"
     ]
    }
   ],
   "source": [
    "#encode a string using a caesar cipher.\n",
    "def caesar_cipher(text, shift):\n",
    "    \"\"\"\n",
    "    Encodes a string using a Caesar cipher.\n",
    "    \n",
    "    Args:\n",
    "      text: The string to encode.\n",
    "      shift: The number of positions to shift each lrtter.\n",
    "      \n",
    "    Returns:\n",
    "      The encode string.\n",
    "    \"\"\"\n",
    "    encoded_text = \"\"\n",
    "    for char in text:\n",
    "        if char.isalpha():\n",
    "            encoded_char = chr((ord(char) + shift - ord('a')) % 26 + ord('a'))\n",
    "        else:\n",
    "            encoded_char = char\n",
    "        \n",
    "        encoded_text += encoded_char\n",
    "    return encoded_text\n",
    "text =\"hello, world!\"\n",
    "shift = 3\n",
    "\n",
    "encoded_text = caesar_cipher(text, shift)\n",
    "\n",
    "print(\"encoded text:\", encoded_text)\n",
    "    "
   ]
  },
  {
   "cell_type": "code",
   "execution_count": 19,
   "id": "14ef744a-4eee-4077-9fae-fe4170ae0c59",
   "metadata": {},
   "outputs": [
    {
     "name": "stdout",
     "output_type": "stream",
     "text": [
      "decoded texs: ilmm,world!\n"
     ]
    }
   ],
   "source": [
    "#decode a caesar cipher encoded string.\n",
    "def caesar_cipher_decoder(text, shift):\n",
    "    \"\"\"\n",
    "    Decodes a string using a Caesar cipher.\n",
    "    \n",
    "    Args:\n",
    "        text:the string to decode.\n",
    "        shift: the number of positions to shift each letter.\n",
    "\n",
    "    returns:\n",
    "        the decode string.\n",
    "    \"\"\"\n",
    "    decoded_text = \"\"\n",
    "    for char in text:\n",
    "        if char.isalpha():\n",
    "            decoded_char = chr((ord(char) - shift - ord('a')) % 26 + ord('a'))\n",
    "        else:\n",
    "              decoded_char = char\n",
    "        decoded_text += decoded_char\n",
    "    return decoded_text\n",
    "text = \"lopp,zruog!\"\n",
    "shift = 3\n",
    "decoded_text = caesar_cipher_decoder(text,shift)\n",
    "print(\"decoded texs:\", decoded_text)"
   ]
  },
  {
   "cell_type": "code",
   "execution_count": 30,
   "id": "50fe2f39-457b-4c75-a009-3e759b08ffd3",
   "metadata": {},
   "outputs": [],
   "source": [
    "# find the most frequent word in a string.\n",
    "import re\n",
    "\n",
    "\n",
    "def most_frequent_word(input_string):\n",
    "    clean_string = re.sub(r'[^\\w\\s]',  '', input_string).lower()\n",
    "    words = clean_string.split()\n",
    "    word_counter = counter(words)\n",
    "    most_common_word = word_counter.most_common(1)[0][0]\n",
    "    \n",
    "    \n",
    "    \n",
    "    return most_common_word\n",
    "    input_str =\" hello world,hello there! how's the world?\"\n",
    "    most_common = most_frequent_word(input_str)\n",
    "    print(\"most frequent word:\", most_common)"
   ]
  },
  {
   "cell_type": "code",
   "execution_count": 28,
   "id": "5327682a-6530-48d7-a45e-4d2f4c3f86a2",
   "metadata": {},
   "outputs": [
    {
     "name": "stdout",
     "output_type": "stream",
     "text": [
      "unique words: {'world', 'hello', 'there', 'the', 'hows'}\n"
     ]
    }
   ],
   "source": [
    "#find all unique words in a string\n",
    "import re\n",
    "\n",
    "def unique_words(input_string):\n",
    "    clean_string= re.sub(r'[^\\w\\s]', '', input_string).lower()\n",
    "    words = set(clean_string.split())\n",
    "    return words\n",
    "input_str = \"hello world, hello there ! how's the world?\"\n",
    "unique_word_set = unique_words(input_str)\n",
    "print(\"unique words:\", unique_word_set)\n",
    "    \n",
    "    \n",
    "   \n"
   ]
  },
  {
   "cell_type": "code",
   "execution_count": 46,
   "id": "0e58a048-0d7a-49ff-a181-272eb2c9be0e",
   "metadata": {},
   "outputs": [
    {
     "name": "stdout",
     "output_type": "stream",
     "text": [
      "'hello' has 2 syllables.\n",
      "'mango' has 2 syllables.\n",
      "'syllable' has 3 syllables.\n"
     ]
    }
   ],
   "source": [
    "#count the number of syllabas in a string.\n",
    "def count_syllables(word):\n",
    "    vowel_groups = re.findall(r'[aeiouy]+', word, re.IGNORECASE)\n",
    "    return len (vowel_groups)\n",
    "\n",
    "word1 =\"hello\"\n",
    "word2 =\"mango\"\n",
    "word3= \"syllable\"\n",
    "\n",
    "syllables1 = count_syllables(word1)\n",
    "syllables2 = count_syllables(word2)\n",
    "syllables3 = count_syllables(word3)\n",
    "\n",
    "print(f\"'{word1}' has {syllables1} syllables.\")\n",
    "print(f\"'{word2}' has {syllables2} syllables.\")\n",
    "print(f\"'{word3}' has {syllables3} syllables.\")"
   ]
  },
  {
   "cell_type": "code",
   "execution_count": 54,
   "id": "8ec6f519-cf69-4ead-a400-43519549219d",
   "metadata": {},
   "outputs": [
    {
     "name": "stdout",
     "output_type": "stream",
     "text": [
      "'hello, world!' contains spacial characters: True\n",
      "'this is a test.' contains spacial characters: True\n",
      "'special@characters' contains spacial characters: True\n"
     ]
    }
   ],
   "source": [
    "# check if a string contains any spacial characters\n",
    "import re\n",
    "\n",
    "def contains_spacial_characters(input_string):\n",
    "    pattern =re.compile( r'[!@#$%^&()_+{}\\[\\]:;<>,.?~\\\\/]')\n",
    "    match = pattern.search(input_string)\n",
    "    return bool(match)\n",
    "string1 = \"hello, world!\"\n",
    "string2 = \"this is a test.\"\n",
    "string3 = \"special@characters\"\n",
    "\n",
    "result1 = contains_spacial_characters(string1)\n",
    "result2 = contains_spacial_characters(string2)\n",
    "result3 = contains_spacial_characters(string3)\n",
    "\n",
    "print(f\"'{string1}' contains spacial characters:\", result1)\n",
    "print(f\"'{string2}' contains spacial characters:\", result2)\n",
    "print(f\"'{string3}' contains spacial characters:\", result3)\n"
   ]
  },
  {
   "cell_type": "code",
   "execution_count": 6,
   "id": "02455291-63d4-4e81-ae53-915066d664bc",
   "metadata": {},
   "outputs": [],
   "source": [
    "#remove the nth word frome a string \n",
    "\n",
    "def remove_nth_word(input_string,n):\n",
    "    words= input_stringsplit()\n",
    "    if n>= 1 and n<= len(words):\n",
    "        removed_word = words.pop(n  - 1)\n",
    "        modified_string = ' '.join(words)\n",
    "        return modified_string, removed_word\n",
    "    else:\n",
    "        return None, None\n",
    "    \n",
    "    input_str= \"this is an exmple sample sentenceto test thefunction\"\n",
    "    in_valu = 4\n",
    "    modified_str, removed_word = remove_nth_word(input_str,n_value)\n",
    "    print(\"original string:\", input_str)\n",
    "    if modified_str is not None:\n",
    "        print(\"modified string:\" , modified_str)\n",
    "        print(\"removed word:\", removed_word)\n",
    "    else:\n",
    "        print(\"invalid n value\")"
   ]
  },
  {
   "cell_type": "code",
   "execution_count": 9,
   "id": "ff85aea9-7ea1-41a5-b9f0-c2f81562e3ac",
   "metadata": {},
   "outputs": [],
   "source": [
    "#convert a  CSV string to a list of list.\n",
    "def csv_string_to_list(csv_string):\n",
    "    lines = csv_string.split('\\n')\n",
    "    result =[]\n",
    "    for line in lines:\n",
    "        fields = line.split(',')\n",
    "    return result\n",
    "csv_data = \"name,age, country\\nJohn, 25,USA\\nAlice, 30, canada\\nBob,22,uk\"\n",
    "list_of_lists = csv_string_to_list(csv_data)\n",
    "\n",
    "for row in list_of_lists:\n",
    "    print(row)"
   ]
  },
  {
   "cell_type": "code",
   "execution_count": 1,
   "id": "f8980301-a4da-4479-92ca-fbaa56449bfb",
   "metadata": {},
   "outputs": [],
   "source": [
    "#List BASCED PROBLEM\n"
   ]
  },
  {
   "cell_type": "code",
   "execution_count": 4,
   "id": "6c7ea8c2-c59e-48df-86ea-d35705dd62e2",
   "metadata": {},
   "outputs": [
    {
     "name": "stdout",
     "output_type": "stream",
     "text": [
      "[1, 2, 3, 4, 5, 6, 7, 8, 9, 10]\n"
     ]
    }
   ],
   "source": [
    "#1 creat a list with integers from 1 to 10\n",
    "integer_list = [i for i in range(1,11)]\n",
    "                                \n",
    "print(integer_list)"
   ]
  },
  {
   "cell_type": "code",
   "execution_count": 5,
   "id": "593cc236-ba78-4b12-87d0-6b2482d8e88d",
   "metadata": {},
   "outputs": [
    {
     "name": "stdout",
     "output_type": "stream",
     "text": [
      "len of the list: 5\n"
     ]
    }
   ],
   "source": [
    "#2 find the lingth of list without using len function\n",
    "\n",
    "def custom_len(input_list):\n",
    "    count=0\n",
    "    for _ in input_list:\n",
    "        count += 1\n",
    "    return count\n",
    "\n",
    "\n",
    "my_list =[12,24,36,48,60]\n",
    "\n",
    "length = custom_len(my_list)\n",
    "\n",
    "print(\"len of the list:\", length)"
   ]
  },
  {
   "cell_type": "code",
   "execution_count": 6,
   "id": "b153dc8f-0ff9-4d54-96eb-f82b0393c9e0",
   "metadata": {},
   "outputs": [
    {
     "name": "stdout",
     "output_type": "stream",
     "text": [
      "updated list: [10, 20, 30, 40]\n"
     ]
    }
   ],
   "source": [
    "#append an elements to the end of the list\n",
    "my_list =[10,20,30]\n",
    "new_element = 40\n",
    "my_list.append(new_element)\n",
    "print(\"updated list:\", my_list)"
   ]
  },
  {
   "cell_type": "code",
   "execution_count": 7,
   "id": "5c9a54f9-1611-4719-86f5-b64e2666ae54",
   "metadata": {},
   "outputs": [
    {
     "name": "stdout",
     "output_type": "stream",
     "text": [
      "updated list: [10, 20, 25, 30, 40, 50]\n"
     ]
    }
   ],
   "source": [
    "#4 insert an element at a specific index in a list\n",
    "my_list = [10,20,30,40,50,]\n",
    "\n",
    "new_element = 25\n",
    "index_to_insert = 2\n",
    "my_list.insert(index_to_insert, new_element)\n",
    "print(\"updated list:\", my_list)"
   ]
  },
  {
   "cell_type": "code",
   "execution_count": 8,
   "id": "b57c4de2-dbd3-4f80-af1e-30db13ca6d0a",
   "metadata": {},
   "outputs": [
    {
     "name": "stdout",
     "output_type": "stream",
     "text": [
      "updated list: [10, 20, 40, 50]\n"
     ]
    }
   ],
   "source": [
    "#5 remove an element from a list\n",
    "my_list =[10,20,30,40,50]\n",
    "element_to_remove = 30\n",
    "my_list.remove(element_to_remove)\n",
    "\n",
    "print(\"updated list:\", my_list)"
   ]
  },
  {
   "cell_type": "code",
   "execution_count": 9,
   "id": "22bf0dd7-72a1-48e6-ad7e-f9a1d6e50e21",
   "metadata": {},
   "outputs": [
    {
     "name": "stdout",
     "output_type": "stream",
     "text": [
      "updated list: [10, 20, 40, 50]\n",
      "removed element: 30\n"
     ]
    }
   ],
   "source": [
    "#6 remove an element from list by its index\n",
    "my_list =[10,20,30,40,50]\n",
    "index_to_remove = 2\n",
    "removed_element = my_list.pop(index_to_remove)\n",
    "print(\"updated list:\", my_list)\n",
    "print(\"removed element:\", removed_element)"
   ]
  },
  {
   "cell_type": "code",
   "execution_count": 12,
   "id": "1ec7f4c8-0121-4521-8beb-c135306baf2c",
   "metadata": {},
   "outputs": [
    {
     "name": "stdout",
     "output_type": "stream",
     "text": [
      "30 not exixt.\n"
     ]
    }
   ],
   "source": [
    "#check if an element exist in a list\n",
    "mt_list = [ 10,20,40,50]\n",
    "element_to_check = 30\n",
    "if element_to_check in my_list:\n",
    "    print(f\"{element_to_check} ecixt in the list.\")\n",
    "else:\n",
    "    print(f\"{element_to_check} not exixt.\")"
   ]
  },
  {
   "cell_type": "code",
   "execution_count": 13,
   "id": "65a5284b-a98e-4612-ad26-d14243a3bd1a",
   "metadata": {},
   "outputs": [
    {
     "name": "stdout",
     "output_type": "stream",
     "text": [
      "the index of 20 is 1\n"
     ]
    }
   ],
   "source": [
    "#8 finde the index of the first occurrance of the element list\n",
    "my_list = [10,20,30,40,50,20]\n",
    "element_to_find = 20\n",
    "index= my_list.index(element_to_find)\n",
    "print(f\"the index of {element_to_find} is {index}\")"
   ]
  },
  {
   "cell_type": "code",
   "execution_count": 14,
   "id": "4d98ee3e-f5a4-4da4-bebb-e9cfa0873427",
   "metadata": {},
   "outputs": [
    {
     "name": "stdout",
     "output_type": "stream",
     "text": [
      " the element 40 occurs 3 times in the list.\n"
     ]
    }
   ],
   "source": [
    "#9count the occurrance of element in a list\n",
    "my_list = [ 10,20,30,40,50,40,40]\n",
    "element_to_count = 40\n",
    "count= my_list.count(element_to_count)\n",
    "\n",
    "print(f\" the element {element_to_count} occurs {count} times in the list.\")"
   ]
  },
  {
   "cell_type": "code",
   "execution_count": 15,
   "id": "8512a275-83b2-4949-a7d9-dc34f86465da",
   "metadata": {},
   "outputs": [
    {
     "name": "stdout",
     "output_type": "stream",
     "text": [
      "reversed list: [50, 40, 30, 20, 10]\n"
     ]
    }
   ],
   "source": [
    "#10 remove the order of elements in a list.\n",
    "my_list =[10,20,30,40,50]\n",
    "my_list.reverse()\n",
    "print(\"reversed list:\", my_list)"
   ]
  },
  {
   "cell_type": "code",
   "execution_count": 16,
   "id": "669194cc-57e5-4f4d-88ae-ebb46193bcec",
   "metadata": {},
   "outputs": [
    {
     "name": "stdout",
     "output_type": "stream",
     "text": [
      "sorted items in ascending order: [10, 20, 30, 40, 50]\n"
     ]
    }
   ],
   "source": [
    "#11 shot a list in ascending order\n",
    "my_list = [ 50,10,30,40,20]\n",
    "my_list.sort()\n",
    "print(\"sorted items in ascending order:\", my_list)\n"
   ]
  },
  {
   "cell_type": "code",
   "execution_count": 17,
   "id": "4d7506a1-14fa-438d-aecf-da924249c72e",
   "metadata": {},
   "outputs": [
    {
     "name": "stdout",
     "output_type": "stream",
     "text": [
      "sort list descending order: [50, 40, 30, 20, 10]\n"
     ]
    }
   ],
   "source": [
    "#12 sort a list in descending order\n",
    "my_list = [50,10,30,40,20]\n",
    "my_list.sort(reverse=True)\n",
    "print(\"sort list descending order:\", my_list)"
   ]
  },
  {
   "cell_type": "code",
   "execution_count": 18,
   "id": "5eb50622-e3b0-4950-9b95-55f317ab466d",
   "metadata": {},
   "outputs": [
    {
     "name": "stdout",
     "output_type": "stream",
     "text": [
      "listof even numbers: [2, 4, 6, 8, 10, 12, 14, 16, 18, 20]\n"
     ]
    }
   ],
   "source": [
    "#13 creat a list with even numbers from 1 to 20\n",
    "even_numbers = [ x for x in range(2, 21, 2)]\n",
    "print(\"listof even numbers:\", even_numbers)"
   ]
  },
  {
   "cell_type": "code",
   "execution_count": 20,
   "id": "07e70245-46de-4c51-879c-af97980990c9",
   "metadata": {},
   "outputs": [
    {
     "name": "stdout",
     "output_type": "stream",
     "text": [
      "odd no: [1, 3, 5, 7, 9, 11, 13, 15, 17, 19]\n"
     ]
    }
   ],
   "source": [
    "#14 creat a list odd numbers from 1 to 20\n",
    "odd_no = [ x for x in range(1, 21, 2)]\n",
    "print(\"odd no:\", odd_no)"
   ]
  },
  {
   "cell_type": "code",
   "execution_count": 22,
   "id": "04edb788-9d47-4e86-87f3-019c44d073dd",
   "metadata": {},
   "outputs": [
    {
     "name": "stdout",
     "output_type": "stream",
     "text": [
      " sum of elements: 150\n"
     ]
    }
   ],
   "source": [
    "#15 find the sum of elements in a list\n",
    "my_l = [10,20,30,40,50]\n",
    "total_sum = sum(my_l)\n",
    "print(\" sum of elements:\" , total_sum)\n",
    "        "
   ]
  },
  {
   "cell_type": "code",
   "execution_count": 24,
   "id": "0569c5de-536d-42a1-9ffd-ee924fac7fbf",
   "metadata": {},
   "outputs": [
    {
     "name": "stdout",
     "output_type": "stream",
     "text": [
      " max value: 50\n"
     ]
    }
   ],
   "source": [
    "#16 find the max valu in list.\n",
    "l =[10,20,30,40,50]\n",
    "max_value = max(l)\n",
    "print(\" max value:\", max_value)"
   ]
  },
  {
   "cell_type": "code",
   "execution_count": 25,
   "id": "155aae2d-0fec-41e3-883f-7f8c14b45510",
   "metadata": {},
   "outputs": [
    {
     "name": "stdout",
     "output_type": "stream",
     "text": [
      "min valu : 10\n"
     ]
    }
   ],
   "source": [
    "#17 find the minumum valu of a list\n",
    "my_list = [10,20,30,40,50]\n",
    "min_v = min(my_list)\n",
    "print(\"min valu :\", min_v)\n",
    " \n"
   ]
  },
  {
   "cell_type": "code",
   "execution_count": 26,
   "id": "5def801f-81dc-42ac-8ac9-bf5db9d3e0e5",
   "metadata": {},
   "outputs": [
    {
     "name": "stdout",
     "output_type": "stream",
     "text": [
      " list of squares: [1, 4, 9, 16, 25, 36, 49, 64, 81, 100]\n"
     ]
    }
   ],
   "source": [
    "#18 creat a list squares of no from 1 to 10\n",
    "squares = [ x ** 2 for x in range(1,11)]\n",
    "print(\" list of squares:\", squares)"
   ]
  },
  {
   "cell_type": "code",
   "execution_count": 2,
   "id": "a5c02e2b-94a9-42c3-9638-342c88b804ab",
   "metadata": {},
   "outputs": [
    {
     "name": "stdout",
     "output_type": "stream",
     "text": [
      "list of random integers: [43, 86, 67, 27, 63, 4, 52, 99, 75, 35]\n"
     ]
    }
   ],
   "source": [
    "#19 creat a list a random no\n",
    "import random\n",
    "random_intergers =[random.randint(1, 100) for _ in range(10)]\n",
    "print(\"list of random integers:\", random_intergers)"
   ]
  },
  {
   "cell_type": "code",
   "execution_count": 3,
   "id": "3567001d-d527-4a8d-ab74-27d8b83b9672",
   "metadata": {},
   "outputs": [
    {
     "name": "stdout",
     "output_type": "stream",
     "text": [
      "list without duplicare: [40, 10, 50, 20, 30]\n"
     ]
    }
   ],
   "source": [
    "#20 remove duplicates from list.\n",
    "l= [ 10,20,30,30,40,40,50,50]\n",
    "unique_list = list(set(l))\n",
    "print(\"list without duplicare:\", unique_list)"
   ]
  },
  {
   "cell_type": "code",
   "execution_count": 4,
   "id": "249bfa9b-3209-49ff-ab1d-e212ee0e3ead",
   "metadata": {},
   "outputs": [
    {
     "name": "stdout",
     "output_type": "stream",
     "text": [
      "{5}\n",
      "no common alements:\n"
     ]
    }
   ],
   "source": [
    "#21 find the common elements between two list.\n",
    "def common_no(a,b):\n",
    "    a_set=set(a)\n",
    "    b_set=set(b)\n",
    "    if (a_set & b_set):\n",
    "        print(a_set & b_set)\n",
    "    else:\n",
    "        print(\"no common alements:\")\n",
    "a =[ 1,2,3,4,5]\n",
    "b =[ 5,6,7,8,9]\n",
    "common_no(a,b)\n",
    "\n",
    "a =[1,2,3,4,5]\n",
    "b =[6,7,8,9]\n",
    "common_no (a,b)"
   ]
  },
  {
   "cell_type": "code",
   "execution_count": 5,
   "id": "34b7bf1b-46fb-44eb-8c9f-1147def1031e",
   "metadata": {},
   "outputs": [
    {
     "name": "stdout",
     "output_type": "stream",
     "text": [
      "difference between list: [20, 10]\n"
     ]
    }
   ],
   "source": [
    "#22 find the differnce between two list.\n",
    "l1=[10,20,30,40,50]\n",
    "l2=[30,40,50,60,70]\n",
    "difference= list(set(l1).difference(l2))\n",
    "print(\"difference between list:\", difference)"
   ]
  },
  {
   "cell_type": "code",
   "execution_count": 6,
   "id": "7836931c-785f-41b0-9ded-df78796ab205",
   "metadata": {},
   "outputs": [
    {
     "name": "stdout",
     "output_type": "stream",
     "text": [
      "marged list: [10, 20, 30, 40, 50, 60]\n"
     ]
    }
   ],
   "source": [
    "#23 merge two list.\n",
    "l=[10,20,30]\n",
    "l1=[40,50,60]\n",
    "m= l+l1\n",
    "print(\"marged list:\", m)"
   ]
  },
  {
   "cell_type": "code",
   "execution_count": 7,
   "id": "87cbf571-8fc7-487a-b301-1bc9ae98825e",
   "metadata": {},
   "outputs": [
    {
     "name": "stdout",
     "output_type": "stream",
     "text": [
      "multiplied list: [20, 40, 60, 80, 100]\n"
     ]
    }
   ],
   "source": [
    "#24multiply all elements.\n",
    "l =[10,20,30,40,50]\n",
    "multiplied_list = [x * 2 for x in l]\n",
    "print(\"multiplied list:\", multiplied_list)"
   ]
  },
  {
   "cell_type": "code",
   "execution_count": 8,
   "id": "616bcb1e-0934-496b-96f5-096cdce7f674",
   "metadata": {},
   "outputs": [
    {
     "name": "stdout",
     "output_type": "stream",
     "text": [
      "[2, 4]\n"
     ]
    }
   ],
   "source": [
    "#25 filter all even number from a list.\n",
    "l =[1,2,3,4,5]\n",
    "out= []\n",
    "for num in l:\n",
    "    if num % 2 ==0:\n",
    "        out.append(num)\n",
    "print(out)"
   ]
  },
  {
   "cell_type": "code",
   "execution_count": 9,
   "id": "7b4e1511-0af4-43a6-8d4d-b98834d03b8a",
   "metadata": {},
   "outputs": [
    {
     "name": "stdout",
     "output_type": "stream",
     "text": [
      "list of integers: [10, 20, 30, 4, 50]\n"
     ]
    }
   ],
   "source": [
    "#26 convert a list to a strin to list of intergers\n",
    "str_l=[\"10\", \"20\", \"30\", \"4\", \"50\"]\n",
    "integer_l = [ int(x) for x in str_l]\n",
    "print(\"list of integers:\", integer_l)"
   ]
  },
  {
   "cell_type": "code",
   "execution_count": 12,
   "id": "f3535ce5-1cf4-42ab-9322-590044130f92",
   "metadata": {},
   "outputs": [
    {
     "name": "stdout",
     "output_type": "stream",
     "text": [
      "list of strings: ['10', '20', '30', '40', '50']\n"
     ]
    }
   ],
   "source": [
    "#27 convert a list a of a intergers to a list of strings.\n",
    "int_l=[10,20,30,40,50]\n",
    "str_l=[str(x)for x in int_l]\n",
    "print(\"list of strings:\", str_l)"
   ]
  },
  {
   "cell_type": "code",
   "execution_count": 13,
   "id": "373fccad-3bcf-4c27-b3a7-51a2394345f6",
   "metadata": {},
   "outputs": [
    {
     "name": "stdout",
     "output_type": "stream",
     "text": [
      "flattended list : [1, 2, 3, 4, 5, 6, 7, 8, 9]\n"
     ]
    }
   ],
   "source": [
    "#28 flattern a nested list.\n",
    "nested_list = [[1,2,3],[4,5],[6,7,8,9]]\n",
    "\n",
    "def flatten_list(nested):\n",
    "    flattened=[]\n",
    "    for sublist in nested:\n",
    "        if isinstance(sublist, list):\n",
    "            flattened.extend(flatten_list(sublist))\n",
    "        else:\n",
    "            flattened.append(sublist)\n",
    "    return flattened\n",
    "flattened_list = flatten_list(nested_list)\n",
    "print(\"flattended list :\", flattened_list)"
   ]
  },
  {
   "cell_type": "code",
   "execution_count": 15,
   "id": "d1f4f8f7-42b8-4e69-b3b9-d0cd26092134",
   "metadata": {},
   "outputs": [
    {
     "name": "stdout",
     "output_type": "stream",
     "text": [
      "first 10 fibonacci no: [0, 1, 1, 2, 3, 5, 8, 13, 21, 34]\n"
     ]
    }
   ],
   "source": [
    "#29 creat a list of first 10fabonacci no.\n",
    "def generate_fibonacci(n):\n",
    "    fibonacci_list = [0,1]\n",
    "    for i in range(2, n):\n",
    "        next_fibonacci = fibonacci_list[i-1] + fibonacci_list[i-2]\n",
    "        fibonacci_list.append(next_fibonacci)\n",
    "    return fibonacci_list\n",
    "fibonacci_numbers= generate_fibonacci(10)\n",
    "print(\"first 10 fibonacci no:\", fibonacci_numbers)"
   ]
  },
  {
   "cell_type": "code",
   "execution_count": 17,
   "id": "aad1c6d6-0578-4a0d-a246-50bf40ad9143",
   "metadata": {},
   "outputs": [
    {
     "name": "stdout",
     "output_type": "stream",
     "text": [
      "this list is sorted.\n"
     ]
    }
   ],
   "source": [
    "#30 chec if a list is sorted.\n",
    "def is_sorted_ascending(lst):\n",
    "    for i in range(1, len(lst)):\n",
    "        if lst[1] < lst[i-1]:\n",
    "            return False\n",
    "        return True\n",
    "ascending_list =[ 10,20,30,40,50]\n",
    "if is_sorted_ascending(ascending_list):\n",
    "    print(\"this list is sorted.\")\n",
    "else:\n",
    "    print(\"this list is not sorted.\")"
   ]
  },
  {
   "cell_type": "code",
   "execution_count": 7,
   "id": "c3e73904-cc43-4f5d-9864-133dfd494f77",
   "metadata": {},
   "outputs": [
    {
     "name": "stdout",
     "output_type": "stream",
     "text": [
      "rotated left: [3, 4, 5, 6, 1, 2]\n"
     ]
    }
   ],
   "source": [
    "#31rotat a list to the n position by left\n",
    "def rotate_left(lst, n):\n",
    "    n = n % len(lst)\n",
    "    rotated =lst[n:] + lst[:n]\n",
    "    return rotated\n",
    "my_list=[1,2,3,4,5,6]\n",
    "n=2\n",
    "rotated_list = rotate_left(my_list,n)\n",
    "print(\"rotated left:\", rotated_list)"
   ]
  },
  {
   "cell_type": "code",
   "execution_count": 13,
   "id": "c07208a7-f41a-40c5-9a98-3e3478f66e87",
   "metadata": {},
   "outputs": [
    {
     "name": "stdout",
     "output_type": "stream",
     "text": [
      "roted list right: [5, 6, 1, 2, 3, 4]\n"
     ]
    }
   ],
   "source": [
    "#32 rotate a list to the right by n position.\n",
    "def rotate_right(lst, n):\n",
    "    n = n % len(lst)\n",
    "    rotated = lst[-n:]  + lst[:-n]\n",
    "    return rotated\n",
    "my_list = [1,2,3,4,5,6]\n",
    "n=2\n",
    "rotated_list = rotate_right(my_list ,n)\n",
    "print(\"roted list right:\", rotated_list)"
   ]
  },
  {
   "cell_type": "code",
   "execution_count": 14,
   "id": "bfc3f3a1-d01a-4748-8df1-046c18b8dc28",
   "metadata": {},
   "outputs": [
    {
     "name": "stdout",
     "output_type": "stream",
     "text": [
      "list of prime number up to 50: [2, 3, 5, 7, 11, 13, 17, 19, 23, 29, 31, 37, 41, 43, 47]\n"
     ]
    }
   ],
   "source": [
    "#33 creat a list prime number upto 50\n",
    "def is_prime(num):\n",
    "    if num <= 1:\n",
    "        return False\n",
    "    if num<= 3:\n",
    "        return True\n",
    "    if num % 2 == 0 or num % 3 == 0:\n",
    "        return False\n",
    "    i = 5\n",
    "    while i* i <= num:\n",
    "        if num % i == 0 or num % (i+2) ==0:\n",
    "            return False\n",
    "        i += 6\n",
    "    return True\n",
    "prime_numbers = [ num for num in range(2,51) if is_prime(num)]\n",
    "print(\"list of prime number up to 50:\", prime_numbers)"
   ]
  },
  {
   "cell_type": "code",
   "execution_count": 19,
   "id": "b1110659-f03e-48f5-b284-5c0c0ef21a7c",
   "metadata": {},
   "outputs": [
    {
     "name": "stdout",
     "output_type": "stream",
     "text": [
      "list of prime numbers upto 50: [2, 3, 5, 7, 11, 13, 17, 19, 23, 29, 31, 37, 41, 43, 47]\n"
     ]
    }
   ],
   "source": [
    "#34 split a list into chunk of size n.\n",
    "def sieve_of_eratosthenes(limit):\n",
    "    primes =[]\n",
    "    is_prime = [True] * (limit + 1)\n",
    "    is_prime[0] = is_prime[1] = False\n",
    "    \n",
    "    \n",
    "    for num in  range(2, int(limit ** 0.5) + 1):\n",
    "        if is_prime[num]:\n",
    "            primes.append(num)\n",
    "            for multiple in range(num * num, limit + 1, num):\n",
    "                  is_prime[multiple] = False\n",
    "    for num in range(int(limit ** 0.5) + 1, limit + 1):\n",
    "        if is_prime[num]:\n",
    "            primes.append(num)\n",
    "    return primes \n",
    "prime_numbers = sieve_of_eratosthenes(50)\n",
    "print(\"list of prime numbers upto 50:\", prime_numbers)"
   ]
  },
  {
   "cell_type": "code",
   "execution_count": 20,
   "id": "bcf5a021-4f00-4196-bb69-dee1d4e4ba84",
   "metadata": {},
   "outputs": [
    {
     "name": "stdout",
     "output_type": "stream",
     "text": [
      "second largest no: 25\n"
     ]
    }
   ],
   "source": [
    "#35 find second largest number in a list.\n",
    "l = [10,5,20,15,30,25]\n",
    "sorted_list = sorted(set(l))\n",
    "if len(sorted_list) >= 2:\n",
    "    second_largest = sorted_list[-2]\n",
    "    print(\"second largest no:\", second_largest)\n",
    "else:\n",
    "    print(\"this list does not contain enought elements.\")"
   ]
  },
  {
   "cell_type": "code",
   "execution_count": 21,
   "id": "8eb501aa-c741-4485-931a-7a3a878fd878",
   "metadata": {},
   "outputs": [
    {
     "name": "stdout",
     "output_type": "stream",
     "text": [
      " squere list: [4, 16, 36, 64, 100]\n"
     ]
    }
   ],
   "source": [
    "#36 replace every elements in a list with its square.\n",
    "l =[2,4,6,8,10]\n",
    "s_l = [ x ** 2 for x in l]\n",
    "print(\" squere list:\", s_l)"
   ]
  },
  {
   "cell_type": "code",
   "execution_count": 22,
   "id": "33ccf4f6-998f-4aa5-8cd4-b8b28a61bf9d",
   "metadata": {},
   "outputs": [
    {
     "name": "stdout",
     "output_type": "stream",
     "text": [
      "converted diconary: {'apple': 0, 'banana': 1, 'mango': 2, 'date': 3, 'cheery': 4}\n"
     ]
    }
   ],
   "source": [
    "#37 convert a list to a dictonary where list elements become keys and their indices become values.\n",
    "l= ['apple', 'banana', 'mango', 'date', 'cheery']\n",
    "d = {element: index for index, element in enumerate(l)}\n",
    "print(\"converted diconary:\", d)"
   ]
  },
  {
   "cell_type": "code",
   "execution_count": 23,
   "id": "f4becdd7-c93e-4795-8663-e050c66f1472",
   "metadata": {},
   "outputs": [
    {
     "name": "stdout",
     "output_type": "stream",
     "text": [
      "shuffeled list: [8, 2, 7, 1, 4, 3, 10, 9, 6, 5]\n"
     ]
    }
   ],
   "source": [
    "#38 shuffle the elements of a list randomly.\n",
    "import random\n",
    "l=[1,2,3,4,5,6,7,8,9,10]\n",
    "random.shuffle(l)\n",
    "print(\"shuffeled list:\",l)"
   ]
  },
  {
   "cell_type": "code",
   "execution_count": 25,
   "id": "023e63c1-3b96-4745-8de0-c14a73ba0e7c",
   "metadata": {},
   "outputs": [
    {
     "name": "stdout",
     "output_type": "stream",
     "text": [
      "list of the first 10 factorial no: [1, 1, 2, 6, 24, 120, 720, 5040, 40320, 362880]\n"
     ]
    }
   ],
   "source": [
    "#39 creaat a list of first 10 factorial number.\n",
    "def factorial(n):\n",
    "    if n == 0 or n == 1:\n",
    "        return 1\n",
    "    else:\n",
    "        return n * factorial(n -1)\n",
    "factorial_numbers = [ factorial(i) for i in range(10)]\n",
    "print(\"list of the first 10 factorial no:\", factorial_numbers)"
   ]
  },
  {
   "cell_type": "code",
   "execution_count": 26,
   "id": "8047683b-2ee2-44c6-8ba6-80faf18974bd",
   "metadata": {},
   "outputs": [
    {
     "name": "stdout",
     "output_type": "stream",
     "text": [
      "one common elements.\n"
     ]
    }
   ],
   "source": [
    "#40 check if two list have at least one element in common.\n",
    "def has_common_element(l,l1):\n",
    "    for item in l:\n",
    "        if item in l1:\n",
    "            return True\n",
    "    return False\n",
    "l=[1,2,3,4,5]\n",
    "l1=[4,5,6,7,8]\n",
    "if has_common_element(l,l1):\n",
    "    print(\"one common elements.\")\n",
    "else:\n",
    "    print(\"do not have any common element.\")"
   ]
  },
  {
   "cell_type": "code",
   "execution_count": 28,
   "id": "52de949d-8ee1-4ac6-9cb3-16828ba9deba",
   "metadata": {},
   "outputs": [
    {
     "name": "stdout",
     "output_type": "stream",
     "text": [
      "empty list: []\n"
     ]
    }
   ],
   "source": [
    "#41 remove all elements from a list\n",
    "l =[1,2,3,4,5,6]\n",
    "l.clear()\n",
    "print(\"empty list:\", l)"
   ]
  },
  {
   "cell_type": "code",
   "execution_count": 29,
   "id": "f8a054e4-8de0-48aa-8234-59796623152d",
   "metadata": {},
   "outputs": [
    {
     "name": "stdout",
     "output_type": "stream",
     "text": [
      "list after replacing with negative numbers: [10, 5, 20, 15, 0, 30, 25]\n"
     ]
    }
   ],
   "source": [
    "#replace negative numbers in a list with 0\n",
    "l = [ 10,5,20,15,-15,30,25]\n",
    "for i in range(len(l)):\n",
    "    if l[i]<0:\n",
    "        l[i] = 0\n",
    "print(\"list after replacing with negative numbers:\", l)\n",
    "       "
   ]
  },
  {
   "cell_type": "code",
   "execution_count": 30,
   "id": "150bc3a4-deb3-4387-b846-fae60233d2b3",
   "metadata": {},
   "outputs": [
    {
     "name": "stdout",
     "output_type": "stream",
     "text": [
      "list of words: ['hello,this', 'is', 'a', 'simple', 'sentence.']\n"
     ]
    }
   ],
   "source": [
    "#43 convert a string into a list of words.\n",
    "s = \"hello,this is a simple sentence.\"\n",
    "w_l = s.split()\n",
    "print(\"list of words:\", w_l)"
   ]
  },
  {
   "cell_type": "code",
   "execution_count": 31,
   "id": "4ae8d2b0-0d59-49ab-bac2-b00ce0cc9be9",
   "metadata": {},
   "outputs": [
    {
     "name": "stdout",
     "output_type": "stream",
     "text": [
      "converted string: hello this is a sapmle sentence.\n"
     ]
    }
   ],
   "source": [
    "#44 convert a list of words into a string.\n",
    "w_l = [ \"hello\", \"this\", \"is\", \"a\", \"sapmle\", \"sentence.\"]\n",
    "s = \" \".join(w_l)\n",
    "print(\"converted string:\", s)"
   ]
  },
  {
   "cell_type": "code",
   "execution_count": 32,
   "id": "8c36c69b-dcf1-434a-9efd-8a4cfb972200",
   "metadata": {},
   "outputs": [
    {
     "name": "stdout",
     "output_type": "stream",
     "text": [
      "list of the first 5 powers of 2: [1, 2, 4, 8, 16]\n"
     ]
    }
   ],
   "source": [
    "#45 creat a lisst of the first n powers 2.\n",
    "n = 5\n",
    "p_l = [ 2 ** i for i in range(n)]\n",
    "print(\"list of the first\", n , \"powers of 2:\",  p_l)"
   ]
  },
  {
   "cell_type": "code",
   "execution_count": 33,
   "id": "72445d81-807d-44ee-8147-2f51d4e535a6",
   "metadata": {},
   "outputs": [
    {
     "name": "stdout",
     "output_type": "stream",
     "text": [
      "longest string: banana\n"
     ]
    }
   ],
   "source": [
    "#46 find the longest string in a list of string\n",
    "s_l = [\"apple\", \"banana\", \"mango\" , \"cheery\" , \"date\"]\n",
    "l_s =\"\"\n",
    "for s in s_l:\n",
    "    if len(s) > len(l_s):\n",
    "        l_s = s\n",
    "print(\"longest string:\", l_s)"
   ]
  },
  {
   "cell_type": "code",
   "execution_count": 34,
   "id": "0df5312f-5607-4c8b-95ed-c28312b9ca7d",
   "metadata": {},
   "outputs": [
    {
     "name": "stdout",
     "output_type": "stream",
     "text": [
      "shortest string: apple\n"
     ]
    }
   ],
   "source": [
    "#47 find the sortest string in a string list.\n",
    "s_l =[ \"apple\",\"banana\", \"mango\", \"cheery\"]\n",
    "s_s =s_l[0]\n",
    "for s in s_l:\n",
    "    if len(s)< len(s_s):\n",
    "        s_s = s\n",
    "print(\"shortest string:\", s_s)"
   ]
  },
  {
   "cell_type": "code",
   "execution_count": 36,
   "id": "db8c512f-1385-45db-beed-09e195701ac2",
   "metadata": {},
   "outputs": [
    {
     "name": "stdout",
     "output_type": "stream",
     "text": [
      "list of the first  tringuler number [1, 3, 6, 10, 15, 21]\n"
     ]
    }
   ],
   "source": [
    "#48 creat a list of the firs tringular number.\n",
    "def t_n(n):\n",
    "    return [ i * (i+1) // 2 for i in range(1, n + 2)]\n",
    "n = 5\n",
    "t_l =t_n(n)\n",
    "print(\"list of the first \", \"tringuler number\", t_l)"
   ]
  },
  {
   "cell_type": "code",
   "execution_count": 37,
   "id": "11437fe9-980f-4242-b5ab-5daa2e46d140",
   "metadata": {},
   "outputs": [
    {
     "name": "stdout",
     "output_type": "stream",
     "text": [
      "contain subseq.\n"
     ]
    }
   ],
   "source": [
    "#49check a list contains another list subsequance.\n",
    "\n",
    "def is_subsequence(subsequence, main_list):\n",
    "    subseq_index = 0\n",
    "    for element in main_list:\n",
    "        if element == subsequence[subseq_index]:\n",
    "            subseq_index += 1\n",
    "            if subseq_index == len(subsequence):\n",
    "                return True\n",
    "    return False\n",
    "main_list =[1,2,3,4,5,6,7,8,9,10]\n",
    "subsequence =[ 3,5,8]\n",
    "if is_subsequence(subsequence, main_list):\n",
    "    print(\"contain subseq.\")\n",
    "else:\n",
    "    print(\"not contain subseq.\")\n"
   ]
  },
  {
   "cell_type": "code",
   "execution_count": 2,
   "id": "3a0cdd72-68ec-49ac-88ae-5c678e692455",
   "metadata": {},
   "outputs": [
    {
     "name": "stdout",
     "output_type": "stream",
     "text": [
      "list after swaping elements: [1, 4, 3, 2, 5]\n"
     ]
    }
   ],
   "source": [
    "#50 swap twoelements in a list by their indices.\n",
    "l= [ 1,2,3,4,5]\n",
    "index= 1\n",
    "index1 = 3\n",
    "temp= l[index]\n",
    "l[index] = l[index1]\n",
    "l[index1] = temp\n",
    "print(\"list after swaping elements:\", l)"
   ]
  },
  {
   "cell_type": "code",
   "execution_count": 1,
   "id": "c49ef51d-78a7-45f3-8e02-05cc177b550d",
   "metadata": {},
   "outputs": [],
   "source": [
    "#TUPLE BASCED PROBLEMS PRACTICE\n"
   ]
  },
  {
   "cell_type": "code",
   "execution_count": 4,
   "id": "6e5af80b-8a1a-482b-b09f-9e204ffc9fa7",
   "metadata": {},
   "outputs": [
    {
     "name": "stdout",
     "output_type": "stream",
     "text": [
      "the third element of tuple is: 30\n"
     ]
    }
   ],
   "source": [
    "#1 creat a tuplw with integer from 1 to 5\n",
    "t = (10,20,30,40,50)\n",
    "t1 = t[2]\n",
    "print(\"the third element of tuple is:\", t1)\n"
   ]
  },
  {
   "cell_type": "code",
   "execution_count": null,
   "id": "4ff78ec8-dd21-45eb-90ad-438bd7f424b0",
   "metadata": {},
   "outputs": [],
   "source": [
    "#2 acess the third elements of a tuple\n"
   ]
  },
  {
   "cell_type": "code",
   "execution_count": 6,
   "id": "5b777a1e-0444-43dc-b1a3-37ec5ec75bc1",
   "metadata": {},
   "outputs": [
    {
     "name": "stdout",
     "output_type": "stream",
     "text": [
      "the third element of tuple is: 30\n"
     ]
    }
   ],
   "source": [
    "\n",
    "t = (10,20,30,40,50)\n",
    "t1 = t[2]\n",
    "print(\"the third element of tuple is:\", t1)\n"
   ]
  },
  {
   "cell_type": "code",
   "execution_count": 7,
   "id": "89ace31c-64d2-4f8f-938a-e58adda10869",
   "metadata": {},
   "outputs": [
    {
     "name": "stdout",
     "output_type": "stream",
     "text": [
      "the len of the tuple: 5\n"
     ]
    }
   ],
   "source": [
    "#3 find the length of a tuple without using the len function\n",
    "t = (10,20,30,40,50)\n",
    "count = 0\n",
    "for _ in t:\n",
    "    count += 1\n",
    "print(\"the len of the tuple:\",count)"
   ]
  },
  {
   "cell_type": "code",
   "execution_count": 9,
   "id": "014235b4-fb78-4508-9c32-7dfc30b49b52",
   "metadata": {},
   "outputs": [
    {
     "name": "stdout",
     "output_type": "stream",
     "text": [
      "the element(element_to_count) appears3 times in the tuple.\n"
     ]
    }
   ],
   "source": [
    "#4 count the occurrance of an element in a tuple\n",
    "t = (10,20,30,40,50,20,20)\n",
    "element_to_count =20\n",
    "count=0\n",
    "for item in t:\n",
    "    if item == element_to_count:\n",
    "        count +=1\n",
    "print(f\"the element(element_to_count) appears{count} times in the tuple.\")"
   ]
  },
  {
   "cell_type": "code",
   "execution_count": 10,
   "id": "2a5f9e38-0cd0-438e-b5b1-932524241945",
   "metadata": {},
   "outputs": [
    {
     "name": "stdout",
     "output_type": "stream",
     "text": [
      "the first occurance of 20is at index1.\n"
     ]
    }
   ],
   "source": [
    "#5 find the index of the first occurance of an element in a tuple\n",
    "t = (10,20,30,40,50)\n",
    "element_to_find = 20\n",
    "index=-1\n",
    "for i, item in enumerate(t):\n",
    "    if item == element_to_find:\n",
    "        index = i\n",
    "        break\n",
    "if index != -1:\n",
    "    print(f\"the first occurance of {element_to_find}is at index{index}.\")\n",
    "else:\n",
    "    print(f\"{element_to_find} is not found in the tuple.\")\n"
   ]
  },
  {
   "cell_type": "code",
   "execution_count": 11,
   "id": "ba2df4dc-ecd3-4dd7-a744-56bc29c4afce",
   "metadata": {},
   "outputs": [
    {
     "name": "stdout",
     "output_type": "stream",
     "text": [
      "30 exixt in the tuple.\n"
     ]
    }
   ],
   "source": [
    "#6 check if an element exit in a tuple\n",
    "t =(10,20,30,40,50)\n",
    "e= 30  #element to check\n",
    "if e in t:\n",
    "    print(f\"{e} exixt in the tuple.\")\n",
    "else:\n",
    "    print(f\"{e} dose not exixt.\")"
   ]
  },
  {
   "cell_type": "code",
   "execution_count": 12,
   "id": "be3b6de3-9a63-48d9-a25d-a1af1a6fdbfb",
   "metadata": {},
   "outputs": [
    {
     "name": "stdout",
     "output_type": "stream",
     "text": [
      "tuple; (10, 20, 30, 40, 50)\n",
      "list: [10, 20, 30, 40, 50]\n"
     ]
    }
   ],
   "source": [
    "#7 convert a tuple to a list.\n",
    "t = (10,20,30,40,50)\n",
    "l=list(t)\n",
    "\n",
    "print(\"tuple;\", t)\n",
    "print(\"list:\", l)"
   ]
  },
  {
   "cell_type": "code",
   "execution_count": 14,
   "id": "77ead537-d0a7-45a1-a586-37d1a49bbea9",
   "metadata": {},
   "outputs": [
    {
     "name": "stdout",
     "output_type": "stream",
     "text": [
      "list: [10, 20, 30, 40, 50]\n",
      "tuple: (10, 20, 30, 40, 50)\n"
     ]
    }
   ],
   "source": [
    "#8 convert a list to tuple.\n",
    "l = [ 10,20,30,40,50]\n",
    "t = tuple(l)\n",
    "\n",
    "print(\"list:\", l)\n",
    "print(\"tuple:\", t)"
   ]
  },
  {
   "cell_type": "code",
   "execution_count": 15,
   "id": "bdea9a6e-6cc3-403d-8a86-b134998f7c0d",
   "metadata": {},
   "outputs": [
    {
     "name": "stdout",
     "output_type": "stream",
     "text": [
      "var1: 10\n",
      "var2: 20\n",
      "var3: 30\n"
     ]
    }
   ],
   "source": [
    "#9 unpack the elements of a tuple in variables.\n",
    "t =(10,20,30)\n",
    "var1, var2,var3 =t\n",
    "print(\"var1:\",var1)\n",
    "print(\"var2:\",var2)\n",
    "print(\"var3:\", var3)"
   ]
  },
  {
   "cell_type": "code",
   "execution_count": 16,
   "id": "1a9432a9-5335-4691-9ad8-8c7bbaf9b379",
   "metadata": {},
   "outputs": [
    {
     "name": "stdout",
     "output_type": "stream",
     "text": [
      "even numbers of tuple: (2, 4, 6, 8, 10)\n"
     ]
    }
   ],
   "source": [
    "#10 creat a tuple of even numbers from 1 to 10.\n",
    "e_l=[num for num in range (2, 11, 2)] #e_l even number list\n",
    "e_t = tuple(e_l)\n",
    "\n",
    "print(\"even numbers of tuple:\", e_t)"
   ]
  },
  {
   "cell_type": "code",
   "execution_count": 17,
   "id": "4d9ef5f1-0d44-4ffe-bd42-4307a2ec53cc",
   "metadata": {},
   "outputs": [
    {
     "name": "stdout",
     "output_type": "stream",
     "text": [
      "tuple of even numbers: (1, 3, 5, 7, 9)\n"
     ]
    }
   ],
   "source": [
    "#11creat a tuple of odd numbers 1 to 10.\n",
    "o_l = [num for num in range(1, 11,2)]\n",
    "o_t =tuple(o_l)\n",
    "print(\"tuple of even numbers:\", o_t)"
   ]
  },
  {
   "cell_type": "code",
   "execution_count": 19,
   "id": "58e6fa5d-abe7-401a-ae2d-0448301e916d",
   "metadata": {},
   "outputs": [
    {
     "name": "stdout",
     "output_type": "stream",
     "text": [
      "concatenated tuple: (1, 2, 3, 4, 5, 6)\n"
     ]
    }
   ],
   "source": [
    "#12 concatenate two tuples.\n",
    "t1 = (1,2,3)\n",
    "t2 = (4,5,6)\n",
    "c = t1 + t2\n",
    "print(\"concatenated tuple:\", c)"
   ]
  },
  {
   "cell_type": "code",
   "execution_count": 20,
   "id": "bf74332a-0758-448d-a881-94c92ebf8308",
   "metadata": {},
   "outputs": [
    {
     "name": "stdout",
     "output_type": "stream",
     "text": [
      "repeated tuple: (1, 2, 3, 1, 2, 3, 1, 2, 3)\n"
     ]
    }
   ],
   "source": [
    "#13 repeat a tuple three times.\n",
    "o_t = (1,2,3)\n",
    "r_t = o_t*3\n",
    "\n",
    "print(\"repeated tuple:\", r_t)"
   ]
  },
  {
   "cell_type": "code",
   "execution_count": 21,
   "id": "53d8b66d-05be-436d-8ff4-d2950280b41c",
   "metadata": {},
   "outputs": [
    {
     "name": "stdout",
     "output_type": "stream",
     "text": [
      "the empty tuple is empty.\n",
      "the no empty tuple is empty.\n"
     ]
    }
   ],
   "source": [
    "#14 check if a tuple is empty.\n",
    "empty_tuple =()\n",
    "no_empty_tuple = (1,2,3)\n",
    "\n",
    "if not empty_tuple:\n",
    "    print(\"the empty tuple is empty.\")\n",
    "else:\n",
    "    print(\"the empty tuple is not empty.\")\n",
    "\n",
    "if no_empty_tuple:\n",
    "    print(\"the no empty tuple is empty.\")\n",
    "else:\n",
    "    print(\"the no empty tuple is not empty.\")"
   ]
  },
  {
   "cell_type": "code",
   "execution_count": 23,
   "id": "f3bc1b95-dd6b-4add-8174-8374ddb1d776",
   "metadata": {},
   "outputs": [
    {
     "name": "stdout",
     "output_type": "stream",
     "text": [
      "nested tuple: ((1, 2, 3), ('a', 'd', 's'), (True, False))\n"
     ]
    }
   ],
   "source": [
    "#15 creat a nested tuple.\n",
    "nested_t = ((1,2,3) , ('a','d','s',), (True, False))\n",
    "print(\"nested tuple:\", nested_t)"
   ]
  },
  {
   "cell_type": "code",
   "execution_count": 24,
   "id": "eec374e9-80ea-47e9-99a4-2615eef2032d",
   "metadata": {},
   "outputs": [
    {
     "name": "stdout",
     "output_type": "stream",
     "text": [
      "first element of nested tuple: (1, 2, 3)\n"
     ]
    }
   ],
   "source": [
    "#16 acess the first elements of nested tuple.\n",
    "n_t = ((1,2,3), ('q','w', 'y'), (True, False))\n",
    "first_element = n_t[0]\n",
    "\n",
    "print(\"first element of nested tuple:\", first_element)"
   ]
  },
  {
   "cell_type": "code",
   "execution_count": 25,
   "id": "74a449cb-532e-4999-afff-b4195ec92e67",
   "metadata": {},
   "outputs": [
    {
     "name": "stdout",
     "output_type": "stream",
     "text": [
      "single element tuple: (42,)\n"
     ]
    }
   ],
   "source": [
    "#17 creat a tuple with single element.\n",
    "s_t = (42,)\n",
    "\n",
    "print(\"single element tuple:\", s_t)"
   ]
  },
  {
   "cell_type": "code",
   "execution_count": 26,
   "id": "872566c3-c3ac-4a4a-aba3-3f95668b8bc3",
   "metadata": {},
   "outputs": [
    {
     "name": "stdout",
     "output_type": "stream",
     "text": [
      "t1 == t2: False\n",
      "t1 != t2: True\n",
      "t1 < t2: True\n",
      "t1 <= t2: True\n",
      "t1>t2: False\n",
      "t1>=t2: False\n"
     ]
    }
   ],
   "source": [
    "#18 compare two tuples.\n",
    "t1 = (1,2,3)\n",
    "t2 = (3,4,5)\n",
    "\n",
    "\n",
    "print(\"t1 == t2:\", t1 ==t2)\n",
    "print(\"t1 != t2:\", t1 != t2)\n",
    "print(\"t1 < t2:\", t1<t2)\n",
    "print(\"t1 <= t2:\", t1 <= t2)\n",
    "print(\"t1>t2:\", t1>t2)\n",
    "print(\"t1>=t2:\", t1>=t2)"
   ]
  },
  {
   "cell_type": "code",
   "execution_count": 27,
   "id": "78d20db8-357a-4b52-b506-9ebb27bc7abc",
   "metadata": {},
   "outputs": [
    {
     "ename": "NameError",
     "evalue": "name 'my_tuple' is not defined",
     "output_type": "error",
     "traceback": [
      "\u001b[0;31m---------------------------------------------------------------------------\u001b[0m",
      "\u001b[0;31mNameError\u001b[0m                                 Traceback (most recent call last)",
      "Cell \u001b[0;32mIn[27], line 6\u001b[0m\n\u001b[1;32m      2\u001b[0m my_tuple \u001b[38;5;241m=\u001b[39m (\u001b[38;5;241m1\u001b[39m,\u001b[38;5;241m2\u001b[39m,\u001b[38;5;241m3\u001b[39m,\u001b[38;5;241m4\u001b[39m,\u001b[38;5;241m5\u001b[39m,\u001b[38;5;241m6\u001b[39m,\u001b[38;5;241m7\u001b[39m)\n\u001b[1;32m      4\u001b[0m \u001b[38;5;28;01mdel\u001b[39;00m my_tuple\n\u001b[0;32m----> 6\u001b[0m \u001b[38;5;28mprint\u001b[39m(\u001b[43mmy_tuple\u001b[49m)\n",
      "\u001b[0;31mNameError\u001b[0m: name 'my_tuple' is not defined"
     ]
    }
   ],
   "source": [
    "#19 deleat a tuple\n",
    "my_tuple = (1,2,3,4,5,6,7)\n",
    "\n",
    "del my_tuple\n",
    "\n",
    "print(my_tuple)"
   ]
  },
  {
   "cell_type": "code",
   "execution_count": 28,
   "id": "4deb4f10-fe6d-4fee-932f-88b086ed19b8",
   "metadata": {},
   "outputs": [
    {
     "name": "stdout",
     "output_type": "stream",
     "text": [
      "sliced tuple: (3, 4, 5, 6)\n"
     ]
    }
   ],
   "source": [
    "#20 slice a tuple.\n",
    "t =(1,2,3,4,5,6,7,8,9,10)\n",
    "\n",
    "s_t = t[2:6]\n",
    "\n",
    "print(\"sliced tuple:\", s_t)"
   ]
  },
  {
   "cell_type": "code",
   "execution_count": 29,
   "id": "6777cb08-2ec2-4e1c-a6eb-1abbe271e747",
   "metadata": {},
   "outputs": [
    {
     "name": "stdout",
     "output_type": "stream",
     "text": [
      "max value: 30\n"
     ]
    }
   ],
   "source": [
    "#21 find the max value in tuple.\n",
    "t = (10,20,5,25,30)\n",
    "\n",
    "m_v = max(t)\n",
    "\n",
    "print(\"max value:\", m_v)"
   ]
  },
  {
   "cell_type": "code",
   "execution_count": 30,
   "id": "7a9fd6ec-725c-47ef-8ca5-3c0877960575",
   "metadata": {},
   "outputs": [
    {
     "name": "stdout",
     "output_type": "stream",
     "text": [
      "minimum value: 34\n"
     ]
    }
   ],
   "source": [
    "#22 minumum valu of a tuple.\n",
    "t = (910,55,60,34,58)\n",
    "min_v = min(t)\n",
    "print(\"minimum value:\", min_v)\n",
    "    "
   ]
  },
  {
   "cell_type": "code",
   "execution_count": 31,
   "id": "d8d3573f-0133-41c4-b55b-60530930d549",
   "metadata": {},
   "outputs": [
    {
     "name": "stdout",
     "output_type": "stream",
     "text": [
      "tuple of char: ('h', 'e', 'l', 'l', 'o', ',', ' ', 'w', 'o', 'r', 'l', 'd', '!')\n"
     ]
    }
   ],
   "source": [
    "#23 convert a string into a tuple char.\n",
    "s = \"hello, world!\"\n",
    "t=tuple(s)\n",
    "print(\"tuple of char:\", t)"
   ]
  },
  {
   "cell_type": "code",
   "execution_count": 32,
   "id": "b239e33a-1ad9-4577-9540-0b75909562e7",
   "metadata": {},
   "outputs": [
    {
     "name": "stdout",
     "output_type": "stream",
     "text": [
      "string to tuple: subhjit\n"
     ]
    }
   ],
   "source": [
    "#24 convert a tuple to string\n",
    "t =('s', 'u', 'b','h','j','i','t')\n",
    "s_t = ''.join(t)\n",
    "\n",
    "print(\"string to tuple:\", s_t)"
   ]
  },
  {
   "cell_type": "code",
   "execution_count": 34,
   "id": "bdb9871c-0aa2-46cd-b5a5-ef6d5b13e765",
   "metadata": {},
   "outputs": [
    {
     "name": "stdout",
     "output_type": "stream",
     "text": [
      "('hello', 1, 3.67, True)\n"
     ]
    }
   ],
   "source": [
    "#25 creat a tuple from multiple data types\n",
    "t = (\"hello\", 1, 3.67,True)\n",
    "\n",
    "print(t)"
   ]
  },
  {
   "cell_type": "code",
   "execution_count": 35,
   "id": "1241aff9-4158-4da3-9cb3-16d260a7a2d1",
   "metadata": {},
   "outputs": [
    {
     "name": "stdout",
     "output_type": "stream",
     "text": [
      "t1 and t2 are identicial: True\n",
      "t1 and t3 are identical: False\n"
     ]
    }
   ],
   "source": [
    "#26 check if two tuple are identical.\n",
    "t1= (1,2,3)\n",
    "t2= (1,2,3)\n",
    "t3= (4,5,6)\n",
    "\n",
    "a_i1= t1 == t2\n",
    "a_i2= t1 == t3\n",
    "\n",
    "print(\"t1 and t2 are identicial:\", a_i1)\n",
    "print(\"t1 and t3 are identical:\", a_i2)"
   ]
  },
  {
   "cell_type": "code",
   "execution_count": 36,
   "id": "847f9d5a-cfc6-4a8f-8d61-872495a5c726",
   "metadata": {},
   "outputs": [
    {
     "name": "stdout",
     "output_type": "stream",
     "text": [
      "sorted tuple: (2, 3, 5, 7, 9)\n"
     ]
    }
   ],
   "source": [
    "#27sort the elements of tuple\n",
    "t=(5,7,9,3,2)\n",
    "\n",
    "s_t = tuple(sorted(t))\n",
    "print(\"sorted tuple:\", s_t)"
   ]
  },
  {
   "cell_type": "code",
   "execution_count": 37,
   "id": "fbc5c335-7e85-4e1f-8185-5fbe1ce5908d",
   "metadata": {},
   "outputs": [
    {
     "name": "stdout",
     "output_type": "stream",
     "text": [
      "tuple of strings: ('1', '2', '3', '4', '5')\n"
     ]
    }
   ],
   "source": [
    "#28 convert a tuple of integers to a tuple  of string\n",
    "\n",
    "t_t =(1,2,3,4,5)\n",
    "\n",
    "t_s = tuple(str(item) for item in t_t)\n",
    "\n",
    "print(\"tuple of strings:\", t_s)"
   ]
  },
  {
   "cell_type": "code",
   "execution_count": 38,
   "id": "ee364f6b-e5e6-4b52-a0db-08b380d33390",
   "metadata": {},
   "outputs": [
    {
     "name": "stdout",
     "output_type": "stream",
     "text": [
      "tuple of strangers: (10, 20, 30, 40, 50)\n"
     ]
    }
   ],
   "source": [
    "#29 convert a tuple of strings  to a tuple of integers.\n",
    "t = ('10' ,'20', '30','40', '50')\n",
    "t_s= tuple(int(item) for item in t)\n",
    "\n",
    "print(\"tuple of strangers:\", t_s)"
   ]
  },
  {
   "cell_type": "code",
   "execution_count": 39,
   "id": "8aa7f5e3-5f2d-426f-bac6-cbf36a4f13ec",
   "metadata": {},
   "outputs": [
    {
     "name": "stdout",
     "output_type": "stream",
     "text": [
      "merged tuple: (1, 2, 3, 4, 5, 6)\n"
     ]
    }
   ],
   "source": [
    "#30 marge two tuple.\n",
    "t1 =(1,2,3)\n",
    "t2 =(4,5,6)\n",
    "\n",
    "m_t = t1 + t2\n",
    "\n",
    "print(\"merged tuple:\", m_t)"
   ]
  },
  {
   "cell_type": "code",
   "execution_count": 4,
   "id": "5109bdb0-82e7-4df8-8e46-d79a359f0283",
   "metadata": {},
   "outputs": [
    {
     "name": "stdout",
     "output_type": "stream",
     "text": [
      "flattened tuple: (1, 2, 3, 4, 4, 6, 7, 8)\n"
     ]
    }
   ],
   "source": [
    "#31 flatten a nested tuple.\n",
    "def flatten_tuple(nested_tuple):\n",
    "    flattened = []\n",
    "    for item in nested_tuple:\n",
    "        if isinstance(item,tuple):\n",
    "            flattened.extend(flatten_tuple(item))\n",
    "        else:\n",
    "            flattened.append(item)\n",
    "    return flattened\n",
    "\n",
    "\n",
    "nested_tuple = ((1,2),(3,4,4),(6,(7,8)))\n",
    "\n",
    "flattened_tuple= tuple(flatten_tuple(nested_tuple))\n",
    "\n",
    "print(\"flattened tuple:\",flattened_tuple)"
   ]
  },
  {
   "cell_type": "code",
   "execution_count": 6,
   "id": "7a628871-de23-44ea-ba2c-48a74ee0193f",
   "metadata": {},
   "outputs": [
    {
     "name": "stdout",
     "output_type": "stream",
     "text": [
      "tuple of the first 5 prime number: (2, 3, 5, 7, 11)\n"
     ]
    }
   ],
   "source": [
    "#32 crea a tuple of first five prime numbers\n",
    "\n",
    "def is_prime(num):\n",
    "    if num <= 1:\n",
    "        return False\n",
    "    for i in range(2, int(num  ** 0.5) + 1):\n",
    "        if num % i == 0:\n",
    "            return False\n",
    "    return True\n",
    "prime_number_list = [ num for num in range(2, 100)  if is_prime(num)][:5]\n",
    "\n",
    "prime_number_tuple = tuple(prime_number_list)\n",
    "\n",
    "print(\"tuple of the first 5 prime number:\", prime_number_tuple)"
   ]
  },
  {
   "cell_type": "code",
   "execution_count": 9,
   "id": "a7b151f0-1870-4796-9353-ce0da3cf3c47",
   "metadata": {},
   "outputs": [
    {
     "name": "stdout",
     "output_type": "stream",
     "text": [
      "p_t is palindrome: False\n",
      "np_t is not plaindrome: False\n"
     ]
    }
   ],
   "source": [
    "#33  chec if a tuple is palindrome or not.\n",
    "def is_plaindrome(tup):\n",
    "    return tup == tup [::-1]\n",
    "p_t = (1,2,3,2,10)\n",
    "np_t = (1,2,3,4,5)\n",
    "\n",
    "p1 = is_plaindrome(p_t)\n",
    "p2 =is_plaindrome(np_t)\n",
    "\n",
    "print(\"p_t is palindrome:\", p1)\n",
    "print(\"np_t is not plaindrome:\", p2)\n"
   ]
  },
  {
   "cell_type": "code",
   "execution_count": 11,
   "id": "1c98d18a-212f-48b9-82e1-75a026775c33",
   "metadata": {},
   "outputs": [
    {
     "name": "stdout",
     "output_type": "stream",
     "text": [
      "tuple of squers: (1, 4, 9, 16, 25)\n"
     ]
    }
   ],
   "source": [
    "#34 creat tuple of squers of numbers from 1 to 5.\n",
    "squers_t = tuple(x ** 2 for x in range(1,6))\n",
    "\n",
    "\n",
    "print(\"tuple of squers:\", squers_t)"
   ]
  },
  {
   "cell_type": "code",
   "execution_count": 12,
   "id": "8f47fd7d-fc07-46c8-8757-ae51d91f90e1",
   "metadata": {},
   "outputs": [
    {
     "name": "stdout",
     "output_type": "stream",
     "text": [
      "filterd tiuple: (1, 3, 5, 7)\n"
     ]
    }
   ],
   "source": [
    "#35 filter out all even numbers from a tuple.\n",
    "o_t= (1,2,3,4,5,6,7)\n",
    "filter_t = tuple(num for num in o_t if num % 2  !=0)\n",
    "\n",
    "print(\"filterd tiuple:\", filter_t)"
   ]
  },
  {
   "cell_type": "code",
   "execution_count": 13,
   "id": "10bfa00b-41c8-4566-a4fa-02eedf752cda",
   "metadata": {},
   "outputs": [
    {
     "name": "stdout",
     "output_type": "stream",
     "text": [
      " doubled tuple: (2, 4, 6, 8, 10)\n"
     ]
    }
   ],
   "source": [
    "#36 multiply al elements in a tuple by 2\n",
    "\n",
    "o_t = (1,2,3,4,5)\n",
    "\n",
    "doubled_t = tuple(num * 2 for num in o_t)\n",
    "\n",
    "print(\" doubled tuple:\", doubled_t)"
   ]
  },
  {
   "cell_type": "code",
   "execution_count": 15,
   "id": "ed4ebdaf-3536-4798-8a5d-e0941f42d15c",
   "metadata": {},
   "outputs": [
    {
     "name": "stdout",
     "output_type": "stream",
     "text": [
      "random tuple: (55, 1, 90, 23, 61, 93, 58, 24, 55, 96)\n"
     ]
    }
   ],
   "source": [
    "#37 creat a tuple of random numbers.\n",
    "\n",
    "import random\n",
    "\n",
    "random_t = tuple(random.randint(1 , 100) for _  in range(10))\n",
    "\n",
    "print(\"random tuple:\", random_t)"
   ]
  },
  {
   "cell_type": "code",
   "execution_count": 16,
   "id": "e164855c-9096-4dea-b162-eb0e930af142",
   "metadata": {},
   "outputs": [
    {
     "name": "stdout",
     "output_type": "stream",
     "text": [
      "sorted tuple is sorted: True\n",
      "unsorted tuple is sorted: True\n"
     ]
    }
   ],
   "source": [
    "#38 check if a tuple is sorted.\n",
    "\n",
    "def is_sorted(tup):\n",
    "    for i in range(len(tup) - 1):\n",
    "        if tup[1] > tup[ i + 1]:\n",
    "            return False\n",
    "    return True\n",
    "sorted_t = (1,2,3,4,5)\n",
    "unsorted_t = (6,1,3,2,4,5)\n",
    "\n",
    "s1= is_sorted(sorted_t)\n",
    "s2 = is_sorted(unsorted_t)\n",
    "\n",
    "print(\"sorted tuple is sorted:\", s1)\n",
    "print(\"unsorted tuple is sorted:\", s2)"
   ]
  },
  {
   "cell_type": "code",
   "execution_count": 1,
   "id": "995b08e2-0410-40f7-80f6-a6d0ed9f2176",
   "metadata": {},
   "outputs": [
    {
     "name": "stdout",
     "output_type": "stream",
     "text": [
      "(3, 4, 5, 1, 2)\n"
     ]
    }
   ],
   "source": [
    "#39 rotat a tuple to the left by n position.\n",
    "def rotat_t_left(tup, n):\n",
    "    n = n % len(tup)\n",
    "    r_t = tup[n:] +tup [:n]\n",
    "    return r_t\n",
    "m_t = (1,2,3,4,5)\n",
    "n_p= 2\n",
    "result = rotat_t_left(m_t, n_p)\n",
    "print(result)"
   ]
  },
  {
   "cell_type": "code",
   "execution_count": 4,
   "id": "11c630dd-6b31-42f9-ba17-1280230fc3ad",
   "metadata": {},
   "outputs": [
    {
     "name": "stdout",
     "output_type": "stream",
     "text": [
      "(6, 7, 1, 2, 3, 4, 5)\n"
     ]
    }
   ],
   "source": [
    "#40 rotat a tuple to the right by n position.\n",
    "def rotat_t_right(tup, n):\n",
    "    n = n % len(tup)\n",
    "    r_t=tup[-n:]  + tup[:-n]\n",
    "    return r_t\n",
    "n_t = (1,2,3,4,5,6,7)\n",
    "n_p = 2\n",
    "result = rotat_t_right(m_t, n_p)\n",
    "print(result)"
   ]
  },
  {
   "cell_type": "code",
   "execution_count": 5,
   "id": "d79e33d9-d87c-4046-a507-d4f59ddf04e5",
   "metadata": {},
   "outputs": [
    {
     "name": "stdout",
     "output_type": "stream",
     "text": [
      "(0, 1, 1, 2, 3)\n"
     ]
    }
   ],
   "source": [
    "#41 creat a tuple of the first five fibonacci number.\n",
    "\n",
    "def generate_fibonacci(n):\n",
    "    fibonacci = [0, 1]\n",
    "    while len(fibonacci) < n:\n",
    "        next_number = fibonacci[-1] + fibonacci[-2]\n",
    "        fibonacci.append(next_number)\n",
    "    return tuple(fibonacci)\n",
    "\n",
    "fibonacci_tuple = generate_fibonacci(5)\n",
    "\n",
    "print(fibonacci_tuple)"
   ]
  },
  {
   "cell_type": "code",
   "execution_count": 6,
   "id": "98d912f8-b206-41a9-b599-82b4bc8eabf7",
   "metadata": {},
   "outputs": [
    {
     "name": "stdin",
     "output_type": "stream",
     "text": [
      "enter elemints separated by coomas: ('s', 'u', 'b', 'h', 'a', 'j', 'i', 't')\n"
     ]
    },
    {
     "name": "stdout",
     "output_type": "stream",
     "text": [
      " user input tuple: (\"('s'\", \" 'u'\", \" 'b'\", \" 'h'\", \" 'a'\", \" 'j'\", \" 'i'\", \" 't')\")\n"
     ]
    }
   ],
   "source": [
    "#42 creat a tuple from user input.\n",
    "\n",
    "s = input(\"enter elemints separated by coomas:\")\n",
    "l = s.split(',')\n",
    "u= tuple(l)\n",
    "print(\" user input tuple:\", u)"
   ]
  },
  {
   "cell_type": "code",
   "execution_count": 10,
   "id": "53b2b688-0573-4fe1-a3bd-61ac9a313351",
   "metadata": {},
   "outputs": [
    {
     "name": "stdout",
     "output_type": "stream",
     "text": [
      "swapped tuple: (1, 4, 3, 2, 5)\n"
     ]
    }
   ],
   "source": [
    "#43 swap two elements in tuple.\n",
    "t = (1,2,3,4,5)\n",
    "\n",
    "index1 = 1\n",
    "index2 = 3\n",
    "swapped_t = tuple(\n",
    "    t[i] if i not in (index1,index2) else\n",
    "    t[index2] if i == index1 else\n",
    "    t[index1]\n",
    "    for i in range(len(t))\n",
    ")\n",
    "\n",
    "print(\"swapped tuple:\", swapped_t)"
   ]
  },
  {
   "cell_type": "code",
   "execution_count": 11,
   "id": "a14b6a95-453a-46aa-933b-4af4d571e44d",
   "metadata": {},
   "outputs": [
    {
     "name": "stdout",
     "output_type": "stream",
     "text": [
      "reversed tuple: (5, 4, 3, 2, 1)\n"
     ]
    }
   ],
   "source": [
    "#44 reverse the elements of tuple.\n",
    "t = (1,2,3,4,5)\n",
    "reversed_t = t[::-1]\n",
    "\n",
    "print(\"reversed tuple:\", reversed_t)"
   ]
  },
  {
   "cell_type": "code",
   "execution_count": 12,
   "id": "6b9b3a97-fff2-4fb7-bc74-5b2dc6929895",
   "metadata": {},
   "outputs": [
    {
     "name": "stdout",
     "output_type": "stream",
     "text": [
      "tuple of the first: (1, 2, 4, 8, 16)\n"
     ]
    }
   ],
   "source": [
    "#45 creat a tuple od the first n powers of 2.\n",
    "n = 5 \n",
    "\n",
    "p = tuple( 2 ** i for i in range(n))\n",
    "\n",
    "print(\"tuple of the first:\", p)"
   ]
  },
  {
   "cell_type": "code",
   "execution_count": 13,
   "id": "ff451091-f6aa-4db5-9628-dc6d26659ed3",
   "metadata": {},
   "outputs": [
    {
     "name": "stdout",
     "output_type": "stream",
     "text": [
      "longest string: bananaa\n"
     ]
    }
   ],
   "source": [
    "#46 find the  longest strings in a tuple of strings.\n",
    "s = (\"apple\", \"mango\", \"bananaa\", \"cherry\")\n",
    "l_s =max(s, key=len)\n",
    "print(\"longest string:\", l_s)"
   ]
  },
  {
   "cell_type": "code",
   "execution_count": 15,
   "id": "9e6a4e7c-2c04-4050-8c37-108afebd8784",
   "metadata": {},
   "outputs": [
    {
     "name": "stdout",
     "output_type": "stream",
     "text": [
      "shortest strings: apple\n"
     ]
    }
   ],
   "source": [
    "#47 find the shortest string in a number of strings.\n",
    "s = ('apple', 'banana', 'mango', 'cherry')\n",
    "s_s = min(s, key=len)\n",
    "print(\"shortest strings:\", s_s)"
   ]
  },
  {
   "cell_type": "code",
   "execution_count": 17,
   "id": "4c450bed-4f15-469b-b4fc-c14a768e6f50",
   "metadata": {},
   "outputs": [
    {
     "name": "stdout",
     "output_type": "stream",
     "text": [
      "tuple of the first 5 tringular number (1, 3, 6, 10, 15)\n"
     ]
    }
   ],
   "source": [
    "#48 creat a tuple of the first n tringular numbers.\n",
    "\n",
    "n = 5\n",
    "triangular_number = tuple((i * (i+1)) // 2 for i in range(1, n+1))\n",
    "\n",
    "print(\"tuple of the first\", n, \"tringular number\",triangular_number)"
   ]
  },
  {
   "cell_type": "code",
   "execution_count": 18,
   "id": "f8bb071f-7e49-469b-ae48-5fdb631acfb5",
   "metadata": {},
   "outputs": [
    {
     "name": "stdout",
     "output_type": "stream",
     "text": [
      "main tuple contain subsequence of tuplr: True\n"
     ]
    }
   ],
   "source": [
    "#49 check  if a tuple contains another tuple as subsequence\n",
    "def contains_sub(main_tuple, sub_tuple):\n",
    "    sub_length = len(sub_tuple)\n",
    "    for i in range(len(main_tuple) - sub_length +1):\n",
    "        if main_tuple[i:i+sub_length] == sub_tuple:\n",
    "            return True\n",
    "    return False\n",
    "\n",
    "main_tuple=(1,2,3,4,5,6,7,8,9)\n",
    "sub_tuple=(3,4,5)\n",
    "contains_subseq = contains_sub(main_tuple, sub_tuple)\n",
    "\n",
    "print(\"main tuple contain subsequence of tuplr:\", contains_subseq)"
   ]
  },
  {
   "cell_type": "code",
   "execution_count": 19,
   "id": "07a91a2e-06cd-4469-86b9-87b6f8af567f",
   "metadata": {},
   "outputs": [
    {
     "name": "stdout",
     "output_type": "stream",
     "text": [
      "tuple of alternating 1s and 0s: (0, 1, 0, 1, 0, 1, 0, 1, 0, 1)\n"
     ]
    }
   ],
   "source": [
    "#50 creat a tuple alternating 1s and 0s of length n.\n",
    "\n",
    "n =10\n",
    "alternating_t = tuple(i % 2 for i in range(n))\n",
    "\n",
    "print(\"tuple of alternating 1s and 0s:\", alternating_t)"
   ]
  },
  {
   "cell_type": "code",
   "execution_count": 1,
   "id": "24145c81-7097-46e3-94eb-a3c42ca17984",
   "metadata": {},
   "outputs": [],
   "source": [
    "# SET BASED PROBLEMS.\n"
   ]
  },
  {
   "cell_type": "code",
   "execution_count": 1,
   "id": "c2be06c7-04dc-4ec5-b2dc-b904acedcd22",
   "metadata": {},
   "outputs": [
    {
     "name": "stdout",
     "output_type": "stream",
     "text": [
      "{1, 2, 3, 4, 5}\n"
     ]
    }
   ],
   "source": [
    "#1 creat a set with integers from 1 to 5\n",
    "\n",
    "s = set()\n",
    "s.add(1)\n",
    "s.add(2)\n",
    "s.add(3)\n",
    "s.add(4)\n",
    "s.add(5)\n",
    "\n",
    "print(s)"
   ]
  },
  {
   "cell_type": "code",
   "execution_count": 3,
   "id": "caf45b31-f923-408b-b224-68eed1937f22",
   "metadata": {},
   "outputs": [
    {
     "name": "stdout",
     "output_type": "stream",
     "text": [
      "orginal set: {1, 2, 3, 4, 5}\n",
      "set after adding eliments: {1, 2, 3, 4, 5, 6}\n"
     ]
    }
   ],
   "source": [
    "#2 add en element to set\n",
    "\n",
    "s={1,2,3,4,5}\n",
    "print(\"orginal set:\", s)\n",
    "\n",
    "element_to_add = 6\n",
    "s.add(element_to_add)\n",
    "\n",
    "print(\"set after adding eliments:\", s)"
   ]
  },
  {
   "cell_type": "code",
   "execution_count": 4,
   "id": "a1235599-5120-43de-91fa-1a76d584cf3d",
   "metadata": {},
   "outputs": [
    {
     "name": "stdout",
     "output_type": "stream",
     "text": [
      "orginal set: {1, 2, 3, 4, 5}\n",
      "set after removing element: {1, 2, 4, 5}\n"
     ]
    }
   ],
   "source": [
    "#3 remove an element from a set.\n",
    "\n",
    "s={1,2,3,4,5}\n",
    "\n",
    "print(\"orginal set:\", s)\n",
    "\n",
    "remove_element = 3\n",
    "\n",
    "s.remove (remove_element)\n",
    "\n",
    "print(\"set after removing element:\", s)"
   ]
  },
  {
   "cell_type": "code",
   "execution_count": 7,
   "id": "99e769bd-b395-40e7-8248-70a1a10838c7",
   "metadata": {},
   "outputs": [
    {
     "name": "stdin",
     "output_type": "stream",
     "text": [
      "enter the element to check: 20\n"
     ]
    },
    {
     "name": "stdout",
     "output_type": "stream",
     "text": [
      "20 dors not exixt\n"
     ]
    }
   ],
   "source": [
    "#4 check if an element exix in a set.\n",
    "s ={1,2,3,4,5}\n",
    "element_to_check = int(input(\"enter the element to check:\"))\n",
    "\n",
    "if element_to_check in s:\n",
    "    print(f\"{element_to_check} exixt in a set\")\n",
    "else:\n",
    "    print(f\"{element_to_check} dors not exixt\")"
   ]
  },
  {
   "cell_type": "code",
   "execution_count": 8,
   "id": "bf769cd1-af20-426b-820d-0e60b9b8ee79",
   "metadata": {},
   "outputs": [
    {
     "name": "stdout",
     "output_type": "stream",
     "text": [
      "length of set: 5\n"
     ]
    }
   ],
   "source": [
    "#5 find the len of a set without using the len function\n",
    "\n",
    "s = {1,2,3,4,5}\n",
    "count =0\n",
    "for _ in s:\n",
    "    count += 1\n",
    "print(\"length of set:\", count)"
   ]
  },
  {
   "cell_type": "code",
   "execution_count": 9,
   "id": "d8192a3e-f0c6-41b9-841b-22b28d1625f6",
   "metadata": {},
   "outputs": [
    {
     "name": "stdout",
     "output_type": "stream",
     "text": [
      "orginal set: {1, 2, 3, 4, 5}\n",
      "set after clearing: set()\n"
     ]
    }
   ],
   "source": [
    "#6 clear all elements from a set.\n",
    "\n",
    "s = {1,2,3,4,5}\n",
    "print(\"orginal set:\",s)\n",
    "s.clear()\n",
    "\n",
    "print(\"set after clearing:\", s)"
   ]
  },
  {
   "cell_type": "code",
   "execution_count": 10,
   "id": "11f0f1e9-7119-45a8-b1ec-064ea1a2776b",
   "metadata": {},
   "outputs": [
    {
     "name": "stdout",
     "output_type": "stream",
     "text": [
      "{2, 4, 6, 8, 10}\n"
     ]
    }
   ],
   "source": [
    "#7 creat a set of even numbers from 1 to 10.\n",
    "s= set()\n",
    "for num in range(1, 11):\n",
    "    if num % 2 == 0:\n",
    "        s.add(num)\n",
    "print(s)"
   ]
  },
  {
   "cell_type": "code",
   "execution_count": 12,
   "id": "cb6add19-c5f9-4ee8-847a-e50f81c57b11",
   "metadata": {},
   "outputs": [
    {
     "name": "stdout",
     "output_type": "stream",
     "text": [
      "set 1: {1, 2, 3, 4, 5}\n",
      "set 2 : {4, 5, 6, 7, 8}\n",
      " union of set 1 and set 2: {1, 2, 3, 4, 5, 6, 7, 8}\n"
     ]
    }
   ],
   "source": [
    "# find the union of two sets.\n",
    "\n",
    "s1= {1,2,3,4,5}\n",
    "s2 ={4,5,6,7,8}\n",
    "union_result = s1.union(s2)\n",
    "\n",
    "print(\"set 1:\", s1)\n",
    "print(\"set 2 :\", s2)\n",
    "print(\" union of set 1 and set 2:\", union_result)\n"
   ]
  },
  {
   "cell_type": "code",
   "execution_count": 13,
   "id": "1a867f91-f2b8-4c34-9875-0876d4bf8ac0",
   "metadata": {},
   "outputs": [
    {
     "name": "stdout",
     "output_type": "stream",
     "text": [
      "set 1: {1, 2, 3, 4, 5}\n",
      "set 2: {3, 4, 5, 6, 7}\n",
      "intersection: {3, 4, 5}\n"
     ]
    }
   ],
   "source": [
    "#10 find the intersection of two sets.\n",
    "\n",
    "s1={1,2,3,4,5}\n",
    "s2 ={3,4,5,6,7}\n",
    "\n",
    "i_result = s1.intersection(s2)\n",
    "\n",
    "print(\"set 1:\", s1)\n",
    "print(\"set 2:\", s2)\n",
    "\n",
    "print(\"intersection:\", i_result)"
   ]
  },
  {
   "cell_type": "code",
   "execution_count": 14,
   "id": "d65504d5-2679-498c-922a-02c515e339db",
   "metadata": {},
   "outputs": [
    {
     "name": "stdout",
     "output_type": "stream",
     "text": [
      "set 1: {1, 2, 3, 4, 5}\n",
      "set 2: {3, 4, 5, 6, 7}\n",
      " difference: {1, 2}\n"
     ]
    }
   ],
   "source": [
    "#11 finde the difference of two sets.\n",
    "\n",
    "s= {1,2,3,4,5}\n",
    "s2={3,4,5,6,7}\n",
    "d_s = s1.difference(s2)\n",
    "\n",
    "print(\"set 1:\", s1)\n",
    "print(\"set 2:\", s2)\n",
    "print(\" difference:\", d_s)"
   ]
  },
  {
   "cell_type": "code",
   "execution_count": 17,
   "id": "715151d9-9928-46b1-8344-4880865df06c",
   "metadata": {},
   "outputs": [
    {
     "name": "stdout",
     "output_type": "stream",
     "text": [
      "is set 1 and set 2 : True\n"
     ]
    }
   ],
   "source": [
    "#12 check if a set is subset of another set.\n",
    "s1 ={1,2,3}\n",
    "s2 ={1,2,3,4,5}\n",
    "is_subset=s1.issubset(s2)\n",
    "print(\"is set 1 and set 2 :\", is_subset)"
   ]
  },
  {
   "cell_type": "code",
   "execution_count": 2,
   "id": "d691443e-2bff-4c12-bdb0-6f21e9f06b5c",
   "metadata": {},
   "outputs": [
    {
     "name": "stdout",
     "output_type": "stream",
     "text": [
      "s1 is a super set of s2\n"
     ]
    }
   ],
   "source": [
    "#13 check if a set is a super set of another set.\n",
    "s1 = {1,2,3,4,5}\n",
    "s2= {3,4}\n",
    "is_s = s1.issuperset(s2)\n",
    "\n",
    "if is_s:\n",
    "    print(\"s1 is a super set of s2\")\n",
    "else:\n",
    "    print(\"s1 is not super set of s2\")"
   ]
  },
  {
   "cell_type": "code",
   "execution_count": 4,
   "id": "6756c759-60a9-44d9-91ea-cc0a9457340c",
   "metadata": {},
   "outputs": [
    {
     "name": "stdout",
     "output_type": "stream",
     "text": [
      "orginal list: [2, 4, 1, 4, 3, 2, 5]\n",
      "orginal set from set: {1, 2, 3, 4, 5}\n"
     ]
    }
   ],
   "source": [
    "#14 creat a set from a list.\n",
    "l =[2,4,1,4,3,2,5]\n",
    "s = set(l)\n",
    "print(\"orginal list:\", l)\n",
    "print(\"orginal set from set:\", s)"
   ]
  },
  {
   "cell_type": "code",
   "execution_count": 5,
   "id": "97430c4f-ba8b-4f7b-a261-5b0483623786",
   "metadata": {},
   "outputs": [
    {
     "name": "stdout",
     "output_type": "stream",
     "text": [
      "orginal set: {1, 2, 3, 4, 5, 6, 9}\n",
      "converted list: [1, 2, 3, 4, 5, 6, 9]\n"
     ]
    }
   ],
   "source": [
    "#15 convert a set to a list.\n",
    "\n",
    "s= {3,1,4,1,5,9,2,6,5}\n",
    "l = list(s)\n",
    "print(\"orginal set:\", s)\n",
    "print(\"converted list:\",l)\n"
   ]
  },
  {
   "cell_type": "code",
   "execution_count": 2,
   "id": "41616951-815b-4542-b489-ea7f673a69e4",
   "metadata": {},
   "outputs": [
    {
     "name": "stdout",
     "output_type": "stream",
     "text": [
      "original set: {1, 2, 3, 4, 5}\n",
      "updated set after removing: 3 : {1, 2, 4, 5}\n"
     ]
    }
   ],
   "source": [
    "#16 remove a random elemnet from a set.\n",
    "import random\n",
    "my_set ={1,2,3,4,5}\n",
    "print(\"original set:\", my_set)\n",
    "random_element = random.choice(list(my_set))\n",
    "my_set.remove(random_element)\n",
    "\n",
    "print(\"updated set after removing:\", random_element,\":\", my_set)\n",
    "      "
   ]
  },
  {
   "cell_type": "code",
   "execution_count": 3,
   "id": "bcc9cfcc-a856-4d6a-a1e6-fd37a5989660",
   "metadata": {},
   "outputs": [
    {
     "name": "stdout",
     "output_type": "stream",
     "text": [
      "original set: {1, 2, 3, 4, 5}\n",
      "poped element: 1\n",
      "set after poping: {2, 3, 4, 5}\n"
     ]
    }
   ],
   "source": [
    "#17 pop an element from a set.\n",
    "s={1,2,3,4,5}\n",
    "print(\"original set:\", s)\n",
    "poped_element= s.pop()\n",
    "print(\"poped element:\", poped_element)\n",
    "print(\"set after poping:\", s)"
   ]
  },
  {
   "cell_type": "code",
   "execution_count": 4,
   "id": "190bf6ab-0ecb-4fef-a5b6-979d639b1ce4",
   "metadata": {},
   "outputs": [
    {
     "name": "stdout",
     "output_type": "stream",
     "text": [
      "the two sets have no common elements.\n"
     ]
    }
   ],
   "source": [
    "# 18 check if two sets have no elements in common.\n",
    "s1={1,2,3,4}\n",
    "s2={5,6,7,8}\n",
    "\n",
    "common_element = s1.intersection(s2)\n",
    "if not common_element:\n",
    "    print(\"the two sets have no common elements.\")\n",
    "else:\n",
    "    print(\"the two sets have common elements.\")"
   ]
  },
  {
   "cell_type": "code",
   "execution_count": 5,
   "id": "c647ef3f-0664-4e97-9e78-6dad7cc72f70",
   "metadata": {},
   "outputs": [
    {
     "name": "stdout",
     "output_type": "stream",
     "text": [
      "symetric difference: {1, 2, 3, 6, 7, 8}\n"
     ]
    }
   ],
   "source": [
    "#19 find the symmetric difference two sets.\n",
    "\n",
    "s1= {1,2,3,4,5}\n",
    "s2={4,5,6,7,8}\n",
    "symetric_difference = s1^s2\n",
    "\n",
    "print(\"symetric difference:\", symetric_difference)"
   ]
  },
  {
   "cell_type": "code",
   "execution_count": 7,
   "id": "d6385ee7-da65-4ae8-8ac1-57caadebe40f",
   "metadata": {},
   "outputs": [
    {
     "name": "stdout",
     "output_type": "stream",
     "text": [
      "swt 1: {1, 2, 3}\n",
      "set 2: {3, 4, 5}\n",
      "updated set: {1, 2, 3, 4, 5}\n"
     ]
    }
   ],
   "source": [
    "#20. update a set wth an elements from another set.\n",
    "\n",
    "s1 = {1,2,3}\n",
    "print(\"swt 1:\", s1)\n",
    "\n",
    "s2 ={3,4,5}\n",
    "print(\"set 2:\", s2)\n",
    "s1.update(s2)\n",
    "print(\"updated set:\", s1)"
   ]
  },
  {
   "cell_type": "code",
   "execution_count": 1,
   "id": "6a4a31c7-0697-4d81-98b7-db6a2e380c24",
   "metadata": {},
   "outputs": [
    {
     "name": "stdout",
     "output_type": "stream",
     "text": [
      "set of the first 5 prime number: {2, 3, 5, 7, 11}\n"
     ]
    }
   ],
   "source": [
    "#21 creat a set from first prime numbers.\n",
    "def is_prime(num):\n",
    "    if num <=1:\n",
    "        return False\n",
    "    for i in range(2,int(num ** 0.5) + 1):\n",
    "        if num % i == 0:\n",
    "            return False\n",
    "    return True\n",
    "prime_set = set()\n",
    "num=2\n",
    "while len(prime_set) < 5:\n",
    "    if is_prime(num):\n",
    "        prime_set.add(num)\n",
    "    num +=1\n",
    "print(\"set of the first 5 prime number:\", prime_set)\n",
    "        "
   ]
  },
  {
   "cell_type": "code",
   "execution_count": 2,
   "id": "d5d0006d-901b-402d-ac32-f61835389d54",
   "metadata": {},
   "outputs": [
    {
     "name": "stdout",
     "output_type": "stream",
     "text": [
      "identical.\n"
     ]
    }
   ],
   "source": [
    "#22. check if two sets are identical\n",
    "s1 ={1,2,3,4,5}\n",
    "s2 ={3,1,5,2,4}\n",
    "\n",
    "if s1 == s2:\n",
    "    print(\"identical.\")\n",
    "else:\n",
    "    print(\"not identical.\")\n",
    "    "
   ]
  },
  {
   "cell_type": "code",
   "execution_count": 3,
   "id": "eabc0d8d-5f9f-42ec-84f7-3debe9cbc750",
   "metadata": {},
   "outputs": [
    {
     "name": "stdout",
     "output_type": "stream",
     "text": [
      "frozen set: frozenset({1, 2, 3, 4, 5})\n"
     ]
    }
   ],
   "source": [
    "#23 creat a frozen set.\n",
    "l=[1,2,3,4,5]\n",
    "\n",
    "frozen_set =frozenset(l)\n",
    "print(\"frozen set:\", frozen_set)"
   ]
  },
  {
   "cell_type": "code",
   "execution_count": 4,
   "id": "51935bed-564a-446b-b4d2-df1b23e726cf",
   "metadata": {},
   "outputs": [
    {
     "name": "stdout",
     "output_type": "stream",
     "text": [
      " are the setsdisjoint: True\n"
     ]
    }
   ],
   "source": [
    "#24 check if a set is disjoint with another set.\n",
    "s1={1,2,3,4,5}\n",
    "s2 ={6,7,8,9,0}\n",
    "\n",
    "disjoint_set = s1.isdisjoint(s2)\n",
    "\n",
    "print(\" are the setsdisjoint:\", disjoint_set)"
   ]
  },
  {
   "cell_type": "code",
   "execution_count": 5,
   "id": "fe3c4d85-f749-4a87-aec6-a78ecb7fabc5",
   "metadata": {},
   "outputs": [
    {
     "name": "stdout",
     "output_type": "stream",
     "text": [
      "{1, 4, 9, 16, 25}\n"
     ]
    }
   ],
   "source": [
    "#25. creat set of squers of number 1 to 5\n",
    "\n",
    "s_s = set()\n",
    "\n",
    "for num in range(1,6):\n",
    "    square = num ** 2\n",
    "    \n",
    "    s_s.add(square)\n",
    "print(s_s)"
   ]
  },
  {
   "cell_type": "code",
   "execution_count": 6,
   "id": "5286b993-f811-433b-8749-28579cb14f8f",
   "metadata": {},
   "outputs": [
    {
     "name": "stdout",
     "output_type": "stream",
     "text": [
      "original set: {1, 2, 34, 5}\n",
      " even numbersset: {2, 34}\n"
     ]
    }
   ],
   "source": [
    "#26. filter out all even numbers of set.\n",
    "\n",
    "o_s = {1,2,34,5}\n",
    "\n",
    "evennumber_set = set()\n",
    "for num in o_s:\n",
    "    if num % 2 ==0:\n",
    "        evennumber_set.add(num)\n",
    "\n",
    "print(\"original set:\", o_s)\n",
    "print(\" even numbersset:\", evennumber_set)"
   ]
  },
  {
   "cell_type": "code",
   "execution_count": 8,
   "id": "6faafa91-1ed9-4af7-96dc-7b057bb1c3e1",
   "metadata": {},
   "outputs": [
    {
     "name": "stdout",
     "output_type": "stream",
     "text": [
      "original set: {1, 2, 3, 4, 5}\n",
      "multiplied set: {2, 4, 6, 8, 10}\n"
     ]
    }
   ],
   "source": [
    "#27multiply all elements in a set by 2\n",
    "\n",
    "o_s = {1,2,3,4,5}\n",
    "m_s = set()\n",
    "for num in o_s:\n",
    "    m_n= num* 2\n",
    "    \n",
    "    m_s.add(m_n)\n",
    "    \n",
    "print(\"original set:\", o_s)\n",
    "print(\"multiplied set:\", m_s)"
   ]
  },
  {
   "cell_type": "code",
   "execution_count": 9,
   "id": "623037cb-cfa8-46ba-9c79-6c450c0d5b0b",
   "metadata": {},
   "outputs": [
    {
     "name": "stdout",
     "output_type": "stream",
     "text": [
      "generated set of random numbers: {1, 6, 7, 75, 14}\n"
     ]
    }
   ],
   "source": [
    "#28 creat set of random numbers.\n",
    "import random\n",
    "\n",
    "rn= 5\n",
    "r=set()\n",
    "for _ in range(rn):\n",
    "    random_num = random.randint(1,100)\n",
    "    r.add(random_num)\n",
    "    \n",
    "print(\"generated set of random numbers:\", r)"
   ]
  },
  {
   "cell_type": "code",
   "execution_count": 10,
   "id": "3aa3ab11-c4e4-42d5-931e-0d18688a94dc",
   "metadata": {},
   "outputs": [
    {
     "name": "stdout",
     "output_type": "stream",
     "text": [
      " empty.\n"
     ]
    }
   ],
   "source": [
    "#29. check if a set is empty.\n",
    "s = set()\n",
    "if not s :\n",
    "    print(\" empty.\")\n",
    "else:\n",
    "    print(\"not empty.\")"
   ]
  },
  {
   "cell_type": "code",
   "execution_count": 13,
   "id": "9da82767-4913-4ba6-8b76-01d04b3adb97",
   "metadata": {},
   "outputs": [
    {
     "name": "stdout",
     "output_type": "stream",
     "text": [
      "nested set: {frozenset({1, 2, 3, 4, 5}), frozenset({0, 6, 7, 8, 9})}\n"
     ]
    }
   ],
   "source": [
    "#30. creat a nested set.\n",
    "s1={1,2,3,4,5}\n",
    "s2 ={6,7,8,9,0}\n",
    "frozen_s1 = frozenset(s1)\n",
    "frozen_s2= frozenset(s2)\n",
    "\n",
    "nested_s= {frozen_s1, frozen_s2}\n",
    "\n",
    "print(\"nested set:\", nested_s)\n",
    "    "
   ]
  },
  {
   "cell_type": "code",
   "execution_count": 2,
   "id": "f80da4ad-eca6-4293-a2c9-1b67fc3fc9b7",
   "metadata": {},
   "outputs": [
    {
     "name": "stdout",
     "output_type": "stream",
     "text": [
      "initial set: {1, 2, 3, 4, 5}\n",
      "set after removing: 3 : {1, 2, 4, 5}\n"
     ]
    }
   ],
   "source": [
    "#31. remove an element from a set using discard methode\n",
    "s= {1,2,3,4,5}\n",
    "print(\"initial set:\", s)\n",
    "\n",
    "element_to_remove = 3\n",
    "\n",
    "s.discard(element_to_remove)\n",
    "\n",
    "print(\"set after removing:\",element_to_remove,\":\",s)\n",
    "    "
   ]
  },
  {
   "cell_type": "code",
   "execution_count": 5,
   "id": "fb942a6f-bd2d-4c45-94c0-ed36e3bf5ec9",
   "metadata": {},
   "outputs": [
    {
     "name": "stdout",
     "output_type": "stream",
     "text": [
      "set 1: {1, 2, 3, 4, 5}\n",
      "set 2: {4, 5, 6, 7, 8}\n",
      "is set1 and subset of set2: False\n",
      "isis set1 superset of set2: False\n",
      "intersection: {4, 5}\n",
      "union: {1, 2, 3, 4, 5, 6, 7, 8}\n",
      "diffreence1: {1, 2, 3}\n",
      "diffrence: {8, 6, 7}\n"
     ]
    }
   ],
   "source": [
    "#32 compare two sets.\n",
    "\n",
    "set1={1,2,3,4,5}\n",
    "set2={4,5,6,7,8}\n",
    "\n",
    "is_subset =set1.issubset(set2)\n",
    "is_superset= set1.issuperset(set2)\n",
    "\n",
    "intersection=set1.intersection(set2)\n",
    "\n",
    "union= set1.union(set2)\n",
    "\n",
    "difference1 = set1.difference(set2)\n",
    "\n",
    "difference2= set2.difference(set1)\n",
    "\n",
    "\n",
    "print(\"set 1:\",set1)\n",
    "print(\"set 2:\", set2)\n",
    "print(\"is set1 and subset of set2:\", is_subset)\n",
    "print(\"isis set1 superset of set2:\", is_superset)\n",
    "print(\"intersection:\", intersection)\n",
    "print(\"union:\",union)\n",
    "print(\"diffreence1:\", difference1)\n",
    "print(\"diffrence:\", difference2)"
   ]
  },
  {
   "cell_type": "code",
   "execution_count": 10,
   "id": "795cad09-a9ae-4878-95a5-5ad01c534d91",
   "metadata": {},
   "outputs": [
    {
     "name": "stdout",
     "output_type": "stream",
     "text": [
      "{'o', 'h', 'e', 'l'}\n"
     ]
    }
   ],
   "source": [
    "#33. creat a set from string.\n",
    "s= \"hello\"\n",
    "s1=set (s)\n",
    "\n",
    "print(s1)"
   ]
  },
  {
   "cell_type": "code",
   "execution_count": 4,
   "id": "4d2ee4c4-0595-4b46-b3c7-eb3d4c36e320",
   "metadata": {},
   "outputs": [
    {
     "name": "stdout",
     "output_type": "stream",
     "text": [
      "original set: {'123', '456', '789'}\n",
      "original integer {456, 123, 789}\n"
     ]
    }
   ],
   "source": [
    "#34 convert a set of strings to a set of integer\n",
    "string_set= {\"123\",\"456\", \"789\"}\n",
    "\n",
    "integer_set = set()\n",
    "for string in string_set:\n",
    "    integer_value = int(string)\n",
    "    integer_set.add(integer_value)\n",
    "    \n",
    "print(\"original set:\",string_set)\n",
    "print(\"original integer\", integer_set)"
   ]
  },
  {
   "cell_type": "code",
   "execution_count": 5,
   "id": "b9da6352-dd83-47ec-a278-922243088620",
   "metadata": {},
   "outputs": [
    {
     "name": "stdout",
     "output_type": "stream",
     "text": [
      "original int set: {1, 2, 3, 4, 5}\n",
      "original str set: {'3', '4', '1', '2', '5'}\n"
     ]
    }
   ],
   "source": [
    "#35  con vert a set of int into a set of strings\n",
    "s={1,2,3,4,5}\n",
    "s1= set()\n",
    "for num in s:\n",
    "    num_str=str(num)\n",
    "    s1.add(num_str)\n",
    "print(\"original int set:\", s)\n",
    "print(\"original str set:\", s1)"
   ]
  },
  {
   "cell_type": "code",
   "execution_count": 6,
   "id": "64c3f64f-211a-4c73-8c0e-02e4e060b674",
   "metadata": {},
   "outputs": [
    {
     "name": "stdout",
     "output_type": "stream",
     "text": [
      "{1, 2, 3, 4, 5, 6}\n"
     ]
    }
   ],
   "source": [
    "# 36 creat a set from a tuple.\n",
    "\n",
    "t=(1,2,3,4,5,6)\n",
    "s= set(t)\n",
    "\n",
    "print(s)"
   ]
  },
  {
   "cell_type": "code",
   "execution_count": 7,
   "id": "fad4a686-4108-4b63-9b39-5c5b36a8bc5f",
   "metadata": {},
   "outputs": [
    {
     "name": "stdout",
     "output_type": "stream",
     "text": [
      "original set: {1, 2, 3, 4, 5}\n",
      "original tuple: (1, 2, 3, 4, 5)\n"
     ]
    }
   ],
   "source": [
    "#37 convert a set to a tuple.\n",
    "\n",
    "s = {1,2,3,4,5}\n",
    "t= tuple(s)\n",
    "print(\"original set:\",s)\n",
    "print(\"original tuple:\",t)"
   ]
  },
  {
   "cell_type": "code",
   "execution_count": 8,
   "id": "e7ae7fe5-613b-4bf1-8d72-4d04c4cf2922",
   "metadata": {},
   "outputs": [
    {
     "name": "stdout",
     "output_type": "stream",
     "text": [
      "maximum valu: 78\n"
     ]
    }
   ],
   "source": [
    "#38 find the max value in set.\n",
    "\n",
    "s= {12,34,56,78}\n",
    "m_v= None\n",
    "\n",
    "for num in s:\n",
    "    if m_v is None or num>m_v:\n",
    "        m_v= num\n",
    "        \n",
    "print(\"maximum valu:\",m_v)"
   ]
  },
  {
   "cell_type": "code",
   "execution_count": 14,
   "id": "5726e922-f261-4206-9731-ba6a3696071c",
   "metadata": {},
   "outputs": [
    {
     "name": "stdout",
     "output_type": "stream",
     "text": [
      "min no: 0\n"
     ]
    }
   ],
   "source": [
    "#39 finde rhe min number.\n",
    "number_set= {15,8,9,0,5}\n",
    "\n",
    "min_value = None\n",
    "\n",
    "for num in number_set:\n",
    "    if min_value is None or num < min_value:\n",
    "        min_value = num\n",
    "print(\"min no:\", min_value)"
   ]
  },
  {
   "cell_type": "code",
   "execution_count": 1,
   "id": "69f01fc4-98a0-405a-a4e3-82d243a4a1ff",
   "metadata": {},
   "outputs": [
    {
     "name": "stdout",
     "output_type": "stream",
     "text": [
      "enter the for the set(type 'done' to finish):\n"
     ]
    },
    {
     "name": "stdin",
     "output_type": "stream",
     "text": [
      ">  subhaji\n",
      ">  raj\n",
      ">  done\n"
     ]
    },
    {
     "name": "stdout",
     "output_type": "stream",
     "text": [
      "finel: {'subhaji', 'raj'}\n"
     ]
    }
   ],
   "source": [
    "# 40 creat set from user input.\n",
    "\n",
    "s = set()\n",
    "\n",
    "print(\"enter the for the set(type 'done' to finish):\")\n",
    "while True:\n",
    "    u= input(\"> \")\n",
    "    if u .lower() == 'done':\n",
    "        break\n",
    "    s.add(u)\n",
    "print(\"finel:\", s)\n",
    "    "
   ]
  },
  {
   "cell_type": "code",
   "execution_count": 2,
   "id": "734d154b-68b0-4641-89b8-80ff26e8df99",
   "metadata": {},
   "outputs": [
    {
     "name": "stdout",
     "output_type": "stream",
     "text": [
      "the intersection is not empty:\n"
     ]
    }
   ],
   "source": [
    "#41 chec if intersection of two sets is empty\n",
    "\n",
    "s1={1,2,3,4,5}\n",
    "s2={4,5,6,7,8}\n",
    "\n",
    "i_result= s1.intersection(s2)\n",
    "\n",
    "if not i_result:\n",
    "    print(\" the intersection is empty:\")\n",
    "else:\n",
    "    print(\"the intersection is not empty:\")"
   ]
  },
  {
   "cell_type": "code",
   "execution_count": 7,
   "id": "4f6fafd7-0620-4c67-9158-58d55e61d460",
   "metadata": {},
   "outputs": [
    {
     "name": "stdout",
     "output_type": "stream",
     "text": [
      "set of 5 fibonacci no: {0, 1, 2, 3, 5}\n"
     ]
    }
   ],
   "source": [
    "#42 creat a set of first of 5 fibonacci no.\n",
    "f=set()\n",
    "\n",
    "a, b, = 0, 1\n",
    "for _ in range(6):\n",
    "    f.add(a)\n",
    "\n",
    "    a,b=b,a+b\n",
    "\n",
    "print(\"set of 5 fibonacci no:\", f)\n",
    "\n"
   ]
  },
  {
   "cell_type": "code",
   "execution_count": 8,
   "id": "91bb5964-7a77-4846-a329-74f329e0ca00",
   "metadata": {},
   "outputs": [
    {
     "name": "stdout",
     "output_type": "stream",
     "text": [
      "original ist: [2, 4, 6, 8, 10, 12, 14, 8]\n",
      "list with duplicates remove: [2, 4, 6, 8, 10, 12, 14]\n"
     ]
    }
   ],
   "source": [
    "#43 remove duplicates from a list using sets.\n",
    "\n",
    "s=[2,4,6,8,10,12,14,8]\n",
    "u= set(s)\n",
    "u1= list(u)\n",
    "\n",
    "print(\"original ist:\",s)\n",
    "print(\"list with duplicates remove:\", u1)"
   ]
  },
  {
   "cell_type": "code",
   "execution_count": 10,
   "id": "973220ed-2a84-4132-ac15-8df40bee2afe",
   "metadata": {},
   "outputs": [
    {
     "name": "stdout",
     "output_type": "stream",
     "text": [
      "the sets have same elements.\n"
     ]
    }
   ],
   "source": [
    "#44check two sets have the same elements ,regardless of their count.\n",
    "def have_same_elements(s1,s2):\n",
    "    l1=sorted(list(s1))\n",
    "    l2=sorted(list(s2))\n",
    "    \n",
    "    return l1==l2\n",
    "\n",
    "s1={1,2,3,2,1}\n",
    "s2={3,2,1}\n",
    "\n",
    "result=have_same_elements(s1,s2)\n",
    "\n",
    "if result:\n",
    "    print(\"the sets have same elements.\")\n",
    "else:\n",
    "    print(\"dont have same elements.\")"
   ]
  },
  {
   "cell_type": "code",
   "execution_count": 11,
   "id": "795161db-b10a-478f-8317-286001bc3cd7",
   "metadata": {},
   "outputs": [
    {
     "name": "stdout",
     "output_type": "stream",
     "text": [
      "{1, 2, 4, 8, 16}\n"
     ]
    }
   ],
   "source": [
    "#45creat a set of first n power of 2.\n",
    "\n",
    "def generated_powers_of_2(n):\n",
    "    powers_of_2=set()\n",
    "    \n",
    "    for i in range(n):\n",
    "        power= 2 ** i\n",
    "        \n",
    "        powers_of_2.add(power)\n",
    "    return powers_of_2\n",
    "n=5\n",
    "powers_set=generated_powers_of_2(n)\n",
    "print(powers_set)"
   ]
  },
  {
   "cell_type": "code",
   "execution_count": 12,
   "id": "9bfeef97-63b6-42ee-81a0-449111b3f495",
   "metadata": {},
   "outputs": [
    {
     "name": "stdout",
     "output_type": "stream",
     "text": [
      "common elements: [7, 9, 12, 15]\n"
     ]
    }
   ],
   "source": [
    "#46 find the common elements between a set and a list.\n",
    "s={3,7,9,12,15}\n",
    "l=[7,12,15,9]\n",
    "\n",
    "list_to_set=set(l)\n",
    "common_elements=[]\n",
    "for element in s:\n",
    "    if element in list_to_set:\n",
    "        common_elements.append(element)\n",
    "print(\"common elements:\",common_elements)"
   ]
  },
  {
   "cell_type": "code",
   "execution_count": null,
   "id": "a18adafe-0859-44b0-8049-8b5f4fc2f320",
   "metadata": {},
   "outputs": [],
   "source": [
    "#47 creat a set of the first n tringular numbers.\n",
    "\n",
    "1     1 dot\n",
    "11      3 dots\n",
    "121     6 dots\n",
    "1231    10 dots"
   ]
  },
  {
   "cell_type": "code",
   "execution_count": 13,
   "id": "1f3030d7-da5f-466f-8880-29829257eb56",
   "metadata": {},
   "outputs": [
    {
     "name": "stdin",
     "output_type": "stream",
     "text": [
      "enter the value of n: 10\n"
     ]
    },
    {
     "name": "stdout",
     "output_type": "stream",
     "text": [
      "the set of the first10 trianhular number is : {1, 3, 36, 6, 10, 45, 15, 21, 55, 28}\n"
     ]
    }
   ],
   "source": [
    "def generate_triangular_numbers(n):\n",
    "    triangular_numbers= set()\n",
    "    for i in range(1, n+1):\n",
    "        triangular_number= i*(i+1)// 2\n",
    "        triangular_numbers.add(triangular_number)\n",
    "    return triangular_numbers\n",
    "n= int(input(\"enter the value of n:\"))\n",
    "triangular_set=generate_triangular_numbers(n)\n",
    "print(f\"the set of the first{n} trianhular number is :\", triangular_set)"
   ]
  },
  {
   "cell_type": "code",
   "execution_count": 14,
   "id": "b5918e12-78c2-4e6f-82ec-2d9694b83b26",
   "metadata": {},
   "outputs": [
    {
     "name": "stdout",
     "output_type": "stream",
     "text": [
      "set 2 is sub set of set 1.\n"
     ]
    }
   ],
   "source": [
    "#48 check if a set contains anotheer set as a subset.\n",
    "s1={1,2,3,4,5}\n",
    "s2={3,4}\n",
    "is_subset=s2.issubset(s1)\n",
    "\n",
    "if is_subset:\n",
    "    print(\"set 2 is sub set of set 1.\")\n",
    "else:\n",
    "    print(\"set 2 is not a subset of set2.\")"
   ]
  },
  {
   "cell_type": "code",
   "execution_count": 15,
   "id": "b3314eb8-76b6-46d6-b948-5abccabd93d5",
   "metadata": {},
   "outputs": [
    {
     "name": "stdout",
     "output_type": "stream",
     "text": [
      "{0, 1}\n"
     ]
    }
   ],
   "source": [
    "#49 creat a set of alternating_set(n):\n",
    "\n",
    "def creat_alternating_set(n):\n",
    "    alternating_set= set()\n",
    "    for i in range(n):\n",
    "        if i % 2 == 0:\n",
    "            alternating_set.add(1)\n",
    "        else:\n",
    "            alternating_set.add(0)\n",
    "    return alternating_set\n",
    "length_n=10\n",
    "result=creat_alternating_set(length_n)\n",
    "print(result)"
   ]
  },
  {
   "cell_type": "code",
   "execution_count": 16,
   "id": "91f7965c-6925-4284-9cd7-1f599288e4e9",
   "metadata": {},
   "outputs": [
    {
     "name": "stdout",
     "output_type": "stream",
     "text": [
      "marged sets: {1, 2, 3, 4, 5, 6, 7, 8}\n"
     ]
    }
   ],
   "source": [
    "#50 marge multipal set in to one.\n",
    "\n",
    "s1={1,2,3}\n",
    "s2={3,4,5}\n",
    "s3={6,7,8}\n",
    "marge_set = s1.union(s2,s3)\n",
    "\n",
    "print(\"marged sets:\", marge_set)"
   ]
  },
  {
   "cell_type": "code",
   "execution_count": null,
   "id": "4316b10b-3dd8-421c-ba61-fa99c0609f11",
   "metadata": {},
   "outputs": [],
   "source": [
    "#COMPLETE"
   ]
  }
 ],
 "metadata": {
  "kernelspec": {
   "display_name": "Python 3 (ipykernel)",
   "language": "python",
   "name": "python3"
  },
  "language_info": {
   "codemirror_mode": {
    "name": "ipython",
    "version": 3
   },
   "file_extension": ".py",
   "mimetype": "text/x-python",
   "name": "python",
   "nbconvert_exporter": "python",
   "pygments_lexer": "ipython3",
   "version": "3.10.8"
  }
 },
 "nbformat": 4,
 "nbformat_minor": 5
}
